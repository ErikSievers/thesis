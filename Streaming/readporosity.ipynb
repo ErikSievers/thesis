{
 "cells": [
  {
   "cell_type": "code",
   "execution_count": null,
   "metadata": {},
   "outputs": [],
   "source": [
    "import math \n",
    "import scipy\n",
    "import numpy as np\n",
    "\n",
    "porositymat = scipy.io.loadmat('../porosity.mat', simplify_cells=True)\n",
    "porosity = porositymat['porosity'][1]\n",
    "layermat = scipy.io.loadmat('../layer.mat', simplify_cells=True)\n",
    "layers = layermat['layer'][1]\n",
    "minlayer = np.max([np.min(layers[x]) for x in range(len(layers))])\n",
    "startlayers = np.array([np.min(layers[x]) for x in range(len(layers))], dtype=np.int32) - 1\n",
    "\n",
    "def getLabelsC(objectIndex, porositythreshold, startLayer, endLayer):\n",
    "    porosityvalue = getCporosities(objectIndex, startLayer, endLayer)\n",
    "    if math.isnan(porosityvalue):\n",
    "        return np.nan\n",
    "    # Classification\n",
    "    # elif (porosityvalue*100) >= porositythreshold:\n",
    "    #     return 1\n",
    "    # else:\n",
    "    #     return 0\n",
    "    # Regression\n",
    "    else:\n",
    "        return porosityvalue\n",
    "\n",
    "def getCporosities(objectIndex, startLayer, endLayer):\n",
    "    objectIndex -= 1\n",
    "    layerOffset = startlayers[objectIndex]\n",
    "    if startLayer < layerOffset:\n",
    "        return np.nan\n",
    "    if endLayer < layerOffset:\n",
    "        endLayer = layerOffset\n",
    "    porosityValue = np.mean(porosity[objectIndex][startLayer-layerOffset:endLayer-layerOffset+1])\n",
    "    if math.isnan(porosityValue):\n",
    "        raise Exception(\"NaN error in porosity\")\n",
    "    return porosityValue\n",
    "\n",
    "    "
   ]
  }
 ],
 "metadata": {
  "language_info": {
   "name": "python"
  }
 },
 "nbformat": 4,
 "nbformat_minor": 2
}
