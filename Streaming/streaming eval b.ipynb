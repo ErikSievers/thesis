{
 "cells": [
  {
   "cell_type": "code",
   "execution_count": 28,
   "metadata": {},
   "outputs": [
    {
     "ename": "ValueError",
     "evalue": "need at least one array to concatenate",
     "output_type": "error",
     "traceback": [
      "\u001b[0;31m---------------------------------------------------------------------------\u001b[0m",
      "\u001b[0;31mValueError\u001b[0m                                Traceback (most recent call last)",
      "\u001b[1;32m/Users/erik/Git/Porosity Detection Research/Streaming/streaming eval b.ipynb Cell 1\u001b[0m in \u001b[0;36m<cell line: 78>\u001b[0;34m()\u001b[0m\n\u001b[1;32m     <a href='vscode-notebook-cell:/Users/erik/Git/Porosity%20Detection%20Research/Streaming/streaming%20eval%20b.ipynb#W1sZmlsZQ%3D%3D?line=69'>70</a>\u001b[0m     allOcvals\u001b[39m.\u001b[39mappend(ocvals)\n\u001b[1;32m     <a href='vscode-notebook-cell:/Users/erik/Git/Porosity%20Detection%20Research/Streaming/streaming%20eval%20b.ipynb#W1sZmlsZQ%3D%3D?line=70'>71</a>\u001b[0m     \u001b[39m# if(i == 0 or i == 1 or i == 2):\u001b[39;00m\n\u001b[1;32m     <a href='vscode-notebook-cell:/Users/erik/Git/Porosity%20Detection%20Research/Streaming/streaming%20eval%20b.ipynb#W1sZmlsZQ%3D%3D?line=71'>72</a>\u001b[0m     \u001b[39m#     plt.imshow(pres[0])\u001b[39;00m\n\u001b[1;32m     <a href='vscode-notebook-cell:/Users/erik/Git/Porosity%20Detection%20Research/Streaming/streaming%20eval%20b.ipynb#W1sZmlsZQ%3D%3D?line=72'>73</a>\u001b[0m     \u001b[39m#     plt.figure()\u001b[39;00m\n\u001b[0;32m   (...)\u001b[0m\n\u001b[1;32m     <a href='vscode-notebook-cell:/Users/erik/Git/Porosity%20Detection%20Research/Streaming/streaming%20eval%20b.ipynb#W1sZmlsZQ%3D%3D?line=75'>76</a>\u001b[0m     \u001b[39m#     plt.figure()\u001b[39;00m\n\u001b[1;32m     <a href='vscode-notebook-cell:/Users/erik/Git/Porosity%20Detection%20Research/Streaming/streaming%20eval%20b.ipynb#W1sZmlsZQ%3D%3D?line=76'>77</a>\u001b[0m     \u001b[39m# ocVals: List[layers][objects][matrix]\u001b[39;00m\n\u001b[0;32m---> <a href='vscode-notebook-cell:/Users/erik/Git/Porosity%20Detection%20Research/Streaming/streaming%20eval%20b.ipynb#W1sZmlsZQ%3D%3D?line=77'>78</a>\u001b[0m ocmin \u001b[39m=\u001b[39m np\u001b[39m.\u001b[39mnanmin(np\u001b[39m.\u001b[39;49mconcatenate([np\u001b[39m.\u001b[39;49mconcatenate([o\u001b[39m.\u001b[39;49mflatten() \u001b[39mfor\u001b[39;49;00m o \u001b[39min\u001b[39;49;00m oo]) \u001b[39mfor\u001b[39;49;00m oo \u001b[39min\u001b[39;49;00m allOcvals]))\n\u001b[1;32m     <a href='vscode-notebook-cell:/Users/erik/Git/Porosity%20Detection%20Research/Streaming/streaming%20eval%20b.ipynb#W1sZmlsZQ%3D%3D?line=78'>79</a>\u001b[0m ocmax \u001b[39m=\u001b[39m np\u001b[39m.\u001b[39mnanmax(np\u001b[39m.\u001b[39mconcatenate([np\u001b[39m.\u001b[39mconcatenate([o\u001b[39m.\u001b[39mflatten() \u001b[39mfor\u001b[39;00m o \u001b[39min\u001b[39;00m oo]) \u001b[39mfor\u001b[39;00m oo \u001b[39min\u001b[39;00m allOcvals]))\n\u001b[1;32m     <a href='vscode-notebook-cell:/Users/erik/Git/Porosity%20Detection%20Research/Streaming/streaming%20eval%20b.ipynb#W1sZmlsZQ%3D%3D?line=79'>80</a>\u001b[0m e1 \u001b[39m=\u001b[39m encoder(noOfBins, ocmin, ocmax)\n",
      "File \u001b[0;32m<__array_function__ internals>:180\u001b[0m, in \u001b[0;36mconcatenate\u001b[0;34m(*args, **kwargs)\u001b[0m\n",
      "\u001b[0;31mValueError\u001b[0m: need at least one array to concatenate"
     ]
    }
   ],
   "source": [
    "%run classes.ipynb\n",
    "# Training cell\n",
    "import numpy as np\n",
    "from sklearn.model_selection import train_test_split\n",
    "\n",
    "emptyRatioA = 47\n",
    "emptyRatioB = 30\n",
    "objectwidth = 83\n",
    "objectheight = 122\n",
    "\n",
    "odtype = 'scatter'\n",
    "neighbourhoodDistance = 3\n",
    "porositythreshold = 0.5\n",
    "neighbourhoodZ = 1\n",
    "windowSize = 44\n",
    "windowOffset = 22\n",
    "noOfBins = 20\n",
    "n_neighbors = 3\n",
    "test_size = 0.4\n",
    "hsegments = [0,26,50,74,98,122]\n",
    "mask = np.zeros((objectwidth, objectheight))\n",
    "bend = 224\n",
    "\n",
    "X_train = readRawTreeImages()\n",
    "labels = getLabels(porositythreshold)\n",
    "Y_train = np.copy(labels)\n",
    "\n",
    "X_test = readRawHouseImages()\n",
    "\n",
    "# Todo: Uncomment this line\n",
    "\n",
    "mask = makeMask(X_train, emptyRatioA)\n",
    "maskB = makeMaskB(X_test, emptyRatioB)\n",
    "\n",
    "bgr = backgroundRemover(mask)\n",
    "ab = blockAccumulator(windowSize, windowOffset)\n",
    "oc1 = outlierCalculator(odtype, neighbourhoodDistance, neighbourhoodZ)\n",
    "# a1 = accumulator(windowSize, windowOffset)\n",
    "\n",
    "# Hur modellerar vi det här? Objekt med olika höjd blir kaos, eller? Skulle kunna skicka tomma bilder när de är slut. \n",
    "\n",
    "allTrainingHists = []\n",
    "\n",
    "def makesegments(image, hsegments):\n",
    "    segments = []\n",
    "    for obimg in image:\n",
    "        for i in range(len(hsegments)-1):\n",
    "            segments.append(obimg[hsegments[i]:hsegments[i+1],:])\n",
    "    return segments\n",
    "\n",
    "trainObjects = np.moveaxis(X_train, 1, 0)\n",
    "testObjects = np.moveaxis(X_test, 1, 0)\n",
    "\n",
    "allOcvals = []\n",
    "allPresValues = []\n",
    "i = 0\n",
    "for image in trainObjects:\n",
    "    # Ta bilden, omvandla till en array av bilder (en bild per obj)\n",
    "    # Vilken struktur behöver preprocess? Lista med numpy array\n",
    "    # image är 26x122x83\n",
    "    # segments ska vara (26*5)x122x83\n",
    "    i +=1 \n",
    "    noback = bgr.removeBackground(image)\n",
    "    segments = makesegments(noback, hsegments)\n",
    "    segmentblocks = ab.next(segments)\n",
    "    if(segmentblocks is False):\n",
    "        continue\n",
    "    # plt.hist(trainoutliers[0][1].flatten(), bins=bincount, range=(minval, maxval))\n",
    "    ocvals = oc1.calculate(segmentblocks)\n",
    "    allOcvals.append(ocvals)\n",
    "    # if(i == 0 or i == 1 or i == 2):\n",
    "    #     plt.imshow(pres[0])\n",
    "    #     plt.figure()\n",
    "    #     plt.hist(pres[0].flatten())\n",
    "    #     plt.yscale('log')\n",
    "    #     plt.figure()\n",
    "    # ocVals: List[layers][objects][matrix]\n",
    "ocmin = np.nanmin(np.concatenate([np.concatenate([o.flatten() for o in oo]) for oo in allOcvals]))\n",
    "ocmax = np.nanmax(np.concatenate([np.concatenate([o.flatten() for o in oo]) for oo in allOcvals]))\n",
    "e1 = encoder(noOfBins, ocmin, ocmax)\n",
    "\n",
    "for ocvals in allOcvals:\n",
    "    if len(ocvals) > 0:\n",
    "        # Print a chart here\n",
    "        # tar encode en lista av 3d?\n",
    "        hists = e1.encode(ocvals)\n",
    "        for acc in hists:\n",
    "            allTrainingHists.append(acc)\n",
    "\n",
    "repetitions = len(allTrainingHists) / len(Y_train)\n",
    "knn = neighbors.KNeighborsClassifier(n_neighbors, weights=\"uniform\", n_jobs=-1)\n",
    "scaler = StandardScaler()\n",
    "clf = Pipeline([('scaler', scaler), ('classifier', knn)])\n",
    "ytrain2 = np.tile(Y_train.astype('int'), [np.int32(repetitions)])\n",
    "clf.fit(allTrainingHists, ytrain2)"
   ]
  },
  {
   "cell_type": "code",
   "execution_count": 27,
   "metadata": {},
   "outputs": [
    {
     "name": "stdout",
     "output_type": "stream",
     "text": [
      "0\n",
      "5\n",
      "10\n",
      "15\n",
      "20\n",
      "25\n",
      "30\n",
      "35\n",
      "40\n",
      "45\n",
      "50\n",
      "55\n",
      "60\n",
      "65\n",
      "70\n",
      "75\n",
      "80\n",
      "85\n",
      "90\n",
      "95\n",
      "100\n",
      "105\n",
      "110\n",
      "115\n",
      "120\n",
      "125\n",
      "130\n",
      "135\n",
      "140\n",
      "145\n",
      "150\n",
      "155\n",
      "160\n",
      "165\n",
      "170\n",
      "175\n",
      "180\n",
      "185\n",
      "190\n",
      "195\n",
      "200\n",
      "205\n",
      "210\n",
      "0.8928294573643413\n"
     ]
    },
    {
     "data": {
      "text/plain": [
       "Text(0.5, 0, 'Window')"
      ]
     },
     "execution_count": 27,
     "metadata": {},
     "output_type": "execute_result"
    },
    {
     "data": {
      "image/png": "[encoded data removed]",
      "text/plain": [
       "<Figure size 432x288 with 1 Axes>"
      ]
     },
     "metadata": {
      "needs_background": "light"
     },
     "output_type": "display_data"
    },
    {
     "data": {
      "image/png": "[encoded data removed]",
      "text/plain": [
       "<Figure size 432x288 with 1 Axes>"
      ]
     },
     "metadata": {
      "needs_background": "light"
     },
     "output_type": "display_data"
    }
   ],
   "source": [
    "%run classes.ipynb\n",
    "# Testing cell\n",
    "from sklearn.metrics import f1_score, roc_auc_score\n",
    "import time\n",
    "oc1.reset()\n",
    "ab.reset()\n",
    "\n",
    "testx = []\n",
    "predictions = []\n",
    "letsPrint = False\n",
    "times = []\n",
    "labelRanges = [(i, i+windowSize) for i in range(0, bend-windowSize, windowOffset)]\n",
    "skips = [20, 28]\n",
    "x = set(range(1,29)) - set(skips)\n",
    "y_test = [getLabelsB(objIndex, 0.5, start, end) for (start, end) in labelRanges for objIndex in x]\n",
    "bgrb = backgroundRemover(maskB)\n",
    "i = 0\n",
    "for image in testObjects:\n",
    "    # Start of timing\n",
    "    i += 1\n",
    "    start_time = time.time()\n",
    "    noback = bgrb.removeBackground(image)\n",
    "    # segments = makesegments(noback, hsegments)\n",
    "    segments = noback\n",
    "    segmentblocks = ab.next(segments)\n",
    "    if(segmentblocks is False):\n",
    "        continue\n",
    "    print(i-windowSize)\n",
    "    ocvals = oc1.calculate(segmentblocks)\n",
    "    hists = e1.encode(ocvals)\n",
    "    pred = clf.predict_proba(hists)[:,1]\n",
    "    times.append(time.time() - start_time)\n",
    "    # End of timing\n",
    "    testx.append(hists)\n",
    "    predictions.append(pred)\n",
    "# investigate accuracy etc here. Potentially batch it based on layer\n",
    "ysvalue = []\n",
    "for index, o in enumerate(predictions):\n",
    "    ysvalue.append(roc_auc_score(y_test[index*26:(index+1)*26], o))\n",
    "plt.plot([s for (s, e) in labelRanges], ysvalue, 'o-')\n",
    "print(np.mean(ysvalue))\n",
    "plt.ylabel(\"ROC-AUC\")\n",
    "plt.xlabel(\"Window\")\n",
    "plt.figure()\n",
    "plt.plot(np.arange(0, len(times)), times, 'o-')\n",
    "plt.ylabel(\"Execution time\")\n",
    "plt.xlabel(\"Window\")"
   ]
  },
  {
   "cell_type": "code",
   "execution_count": 13,
   "metadata": {},
   "outputs": [
    {
     "data": {
      "text/plain": [
       "0.0"
      ]
     },
     "execution_count": 13,
     "metadata": {},
     "output_type": "execute_result"
    }
   ],
   "source": [
    "np.mean(y_test[0:26])"
   ]
  }
 ],
 "metadata": {
  "kernelspec": {
   "display_name": "thesis-env",
   "language": "python",
   "name": "python3"
  },
  "language_info": {
   "codemirror_mode": {
    "name": "ipython",
    "version": 3
   },
   "file_extension": ".py",
   "mimetype": "text/x-python",
   "name": "python",
   "nbconvert_exporter": "python",
   "pygments_lexer": "ipython3",
   "version": "3.9.15"
  },
  "orig_nbformat": 4,
  "vscode": {
   "interpreter": {
    "hash": "1b582782fd74adb665333939d2eb8c9995c52902e0db289bedb880e3a83e2d4f"
   }
  }
 },
 "nbformat": 4,
 "nbformat_minor": 2
}
