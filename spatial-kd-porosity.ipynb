version https://git-lfs.github.com/spec/v1
oid sha256:6de2c55f165e760551ce7af83eb392a5818c69fc509a5033207611fa9e647960
size 15070183
