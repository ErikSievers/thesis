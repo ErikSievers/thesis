{
 "cells": [
  {
   "cell_type": "markdown",
   "metadata": {},
   "source": [
    "### This Notebook plots good settings"
   ]
  },
  {
   "cell_type": "code",
   "execution_count": 41,
   "metadata": {},
   "outputs": [],
   "source": [
    "# Bonus cell for using the different test set\n",
    "\n",
    "import pandas as pd\n",
    "import numpy as np\n",
    "import matplotlib.pyplot as plt\n",
    "import pathlib\n",
    "from copy import copy\n",
    "from matplotlib import cm, colors\n",
    "import cv2\n",
    "\n",
    "# Två delar:\n",
    "# 1: fixa segmentstorleken\n",
    "# 2: fixa masker för varje segment\n",
    "# Eller egentligen, skit i det. Applicera masken i förväg?\n",
    "\n",
    "\n",
    "def getTestObjects(porositythreshold=0.5): \n",
    "    objectwidth = 100\n",
    "    objectheight = 100\n",
    "    xspacing = 116\n",
    "    yspacing = 300\n",
    "    xstart = 293\n",
    "    ystart = 445\n",
    "    xend = 1730\n",
    "    yend = 1770\n",
    "    powderthickness = 80\n",
    "    endlayer = 225\n",
    "    vsegments = [0, 150, 187, endlayer]\n",
    "\n",
    "    paths = pathlib.Path('./OT data 80 um/int').glob('*.tif')\n",
    "    paths_sorted = [x for x in paths]\n",
    "    paths_sorted.sort()\n",
    "    integrals = np.array([np.array(plt.imread(path)) for path in paths_sorted])\n",
    "\n",
    "    objectinfo = pd.read_csv('Parameters2.csv', names=[\"Object\", \"P\", \"S\", \"H\", \"Porosity\", \"Label\"])\n",
    "    objectCoordinates = [[x, x+objectwidth, y, y+objectheight] for y in reversed(range(\n",
    "        ystart, yend, objectheight + yspacing)) for x in range(xstart, xend, xspacing + objectwidth)]\n",
    "    coorddf = pd.DataFrame(objectCoordinates, columns=['xstart', 'xend', 'ystart', 'yend'])\n",
    "    objectinfo = coorddf.join(objectinfo)\n",
    "\n",
    "    objectinfo.replace('GOOD', 0, inplace=True)\n",
    "    objectinfo.replace('LOF', 1, inplace=True)\n",
    "    objectinfo.reset_index(drop=True, inplace=True)\n",
    "\n",
    "    objects = np.full((len(objectinfo), endlayer, objectheight, objectwidth), np.nan)\n",
    "\n",
    "    for index, object in objectinfo.iterrows():\n",
    "        objects[index] = integrals[:, object.ystart:object.yend, object.xstart:object.xend]\n",
    "\n",
    "    rtn = np.full(objects.shape, np.nan)\n",
    "    aggregate = np.sum(objects, axis=(0))\n",
    "\n",
    "    emptyRatio = 30\n",
    "    limit = np.percentile(aggregate, emptyRatio)\n",
    "    testmask = aggregate >= limit\n",
    "    for object in objects:\n",
    "        object[~testmask] = np.nan\n",
    "\n",
    "    # Create the good frame\n",
    "    segmentdf = pd.read_csv('Segments2.csv', names=[\"Object\", \"Objectnumber\", \"Segment\", \"P\", \"S\", \"H\", \"Porosity\"])\n",
    "    segmentdf.insert(1, \"VED\", segmentdf.P * 1000/(segmentdf.S * segmentdf.H * powderthickness))\n",
    "    segmentdf.insert(1, \"Label\", np.where(segmentdf.Porosity > porositythreshold, 1, 0))\n",
    "    # segmentdf.drop(segmentdf[(segmentdf.VED > 50)].index, inplace=True)\n",
    "    segmentdf.reset_index(drop=True, inplace=True)\n",
    "    vs = [[vsegments[j], vsegments[j+1]] for i in range(0, len(objects)) for j in reversed(range(0, len(vsegments)-1))]\n",
    "    coorddf = pd.DataFrame(vs, columns=['zstart', 'zend'])\n",
    "    testobjectinfo = coorddf.join(segmentdf)\n",
    "    testobjectinfo.drop(testobjectinfo[(testobjectinfo.Objectnumber == 28) | (testobjectinfo.Objectnumber == 21) ].index, inplace=True)\n",
    "    testobjectinfo.reset_index(drop=True, inplace=True)\n",
    "\n",
    "    testobjects = [objects[object.Objectnumber-1, object.zstart:object.zend] for index, object in testobjectinfo.iterrows()]\n",
    "\n",
    "    del objects\n",
    "    del objectinfo\n",
    "    del coorddf\n",
    "    del objectCoordinates\n",
    "    del paths_sorted\n",
    "    del integrals\n",
    "    print(\"fetching data with \", porositythreshold)\n",
    "    return testobjects, testobjectinfo"
   ]
  },
  {
   "cell_type": "code",
   "execution_count": 42,
   "metadata": {},
   "outputs": [],
   "source": [
    "# Read train data\n",
    "\n",
    "import pandas as pd\n",
    "import numpy as np\n",
    "import matplotlib.pyplot as plt\n",
    "import pathlib\n",
    "from copy import copy\n",
    "from matplotlib import cm, colors\n",
    "import cv2\n",
    "\n",
    "def getTrainObjects(objectsplit=1, upsamplingratio=1, positive_multiplier=1, porositythreshold=0.5, separate_test=True):\n",
    "    emptyRatio = 47\n",
    "    objectwidth = 83\n",
    "    objectheight = 122\n",
    "    xspacing = 133\n",
    "    yspacing = 270\n",
    "    xstart = 293\n",
    "    ystart = 268\n",
    "    xend = 1730\n",
    "    yend = 1770\n",
    "    hsegments = [0,26,50,74,98,122]\n",
    "    powderthickness = 80\n",
    "    endlayer = 187\n",
    "\n",
    "    paths = pathlib.Path('./OT data 80 um/int').glob('*.tif')\n",
    "    paths_sorted = [x for x in paths]\n",
    "    paths_sorted.sort()\n",
    "    block = np.array([np.array(plt.imread(path)) for path in paths_sorted])\n",
    "    integrals = block[0:endlayer]\n",
    "\n",
    "    del paths_sorted\n",
    "    objectinfo = pd.read_csv('Parameters.csv', names=[\"Object\", \"P\", \"S\", \"H\", \"Porosity\", \"Label\"])\n",
    "\n",
    "    objectCoordinates = [[x, x+objectwidth, y, y+objectheight] for y in reversed(range(\n",
    "        ystart, yend, objectheight + yspacing)) for x in range(xstart, xend, xspacing + objectwidth)]\n",
    "    coorddf = pd.DataFrame(objectCoordinates, columns=['xstart', 'xend', 'ystart', 'yend'])\n",
    "    objectinfo = coorddf.join(objectinfo)\n",
    "\n",
    "    objects = np.full((len(objectinfo), endlayer, objectheight, objectwidth), np.nan)\n",
    "\n",
    "    for index, object in objectinfo.iterrows():\n",
    "        objects[index] = integrals[:, object.ystart:object.yend, object.xstart:object.xend]\n",
    "\n",
    "    aggregate = np.sum(objects, axis=(0,1))\n",
    "\n",
    "    emptyRatio = 47\n",
    "    limit = np.percentile(aggregate, emptyRatio)\n",
    "    mask = aggregate >= limit\n",
    "    mask = np.repeat([mask], endlayer, 0)\n",
    "\n",
    "    for object in objects:\n",
    "        object[~mask] = np.nan\n",
    "\n",
    "    # Time to construct the \"real\" dataframe\n",
    "\n",
    "    segmentdf = pd.read_csv('Segments.csv', names=[\"Object\", \"Objectnumber\", \"Segment\", \"P\", \"S\", \"H\", \"Porosity\", \"Area\"])\n",
    "    segmentdf.insert(1, \"VED\", segmentdf.P * 1000/(segmentdf.S * segmentdf.H * powderthickness))\n",
    "    segmentdf.insert(1, \"Label\", np.where(segmentdf.Porosity > porositythreshold, 1, 0))\n",
    "    originalframe = segmentdf.copy()\n",
    "    hs = [[hsegments[j], hsegments[j+1]] for i in range(0, len(objects)) for j in range(0, len(hsegments)-1)]\n",
    "    coorddf = pd.DataFrame(hs, columns=['hstart', 'hend'])\n",
    "    segmentdf = coorddf.join(segmentdf)\n",
    "\n",
    "    # Start of object multiplication \n",
    "    layersPerObject = endlayer // objectsplit\n",
    "    testEnd = endlayer if separate_test else endlayer - layersPerObject * (objectsplit // 3)\n",
    "    zs = [segmentdf.copy().assign(zstart=z, zend=z+layersPerObject) for z in range(0, testEnd-layersPerObject+1, layersPerObject//(upsamplingratio * positive_multiplier))]\n",
    "    testzs = [segmentdf.copy().assign(zstart=testEnd, zend=endlayer)]\n",
    "    trainobjectinfo = pd.concat(zs, ignore_index=True)\n",
    "    trainobjectinfo.drop(trainobjectinfo[(trainobjectinfo.Objectnumber == 28) | (trainobjectinfo.Objectnumber == 21) ].index, inplace=True)\n",
    "    trainobjectinfo.reset_index(drop=True, inplace=True)\n",
    "    testobjectinfo = pd.concat(testzs, ignore_index=True)\n",
    "\n",
    "    # Removes extra rows \n",
    "    trainobjectinfo = trainobjectinfo[(trainobjectinfo['Label'] == 1) | (trainobjectinfo['zstart'] % (positive_multiplier) == 0)]\n",
    "\n",
    "    trainobjects = [objects[object.Objectnumber-1, object.zstart:object.zend, object.hstart:object.hend] for index, object in trainobjectinfo.iterrows()]\n",
    "    testobjects = [objects[object.Objectnumber-1, object.zstart:object.zend, object.hstart:object.hend] for index, object in testobjectinfo.iterrows()]\n",
    "\n",
    "    print(\"fetching data with objectsplit: {}, upsamplingratio: {}, positive_multiplier: {}, porositythreshold: {}\".format(objectsplit, upsamplingratio, positive_multiplier, porositythreshold))\n",
    "    return trainobjects, trainobjectinfo\n",
    "\n",
    "# assert(np.average(np.isfinite(trainobjects)) == 1)\n",
    "# assert(np.average(np.isfinite(testobjects)) == 1)\n",
    "# xs = np.copy(aggregate)\n",
    "# xs[~backgroundmask] = np.nan\n",
    "# plt.imshow(xs)\n",
    "# plt.figure()"
   ]
  },
  {
   "cell_type": "code",
   "execution_count": 43,
   "metadata": {},
   "outputs": [],
   "source": [
    "from sklearn import neighbors, metrics\n",
    "from sklearn.model_selection import cross_val_score, LeaveOneOut\n",
    "from sklearn.ensemble import RandomForestClassifier\n",
    "from sklearn import preprocessing\n",
    "from datetime import datetime\n",
    "from sklearn.preprocessing import RobustScaler, StandardScaler\n",
    "from sklearn.pipeline import make_pipeline, Pipeline\n",
    "from sklearn import tree\n",
    "import warnings\n",
    "\n",
    "def preprocess(objects, type, sharpening):\n",
    "    rtn = []\n",
    "    # print(rtn.shape)\n",
    "    for index, object in enumerate(objects):\n",
    "        sharpened = object\n",
    "        if(sharpening != 'none'):\n",
    "            sharpeningKernel = np.array([   [-1, -1,  -1],\n",
    "                                        [-1,  9,  -1],\n",
    "                                        [ -1, -1,  -1]\n",
    "        ]) if sharpening == 'diagonal' else np.array([  [0, -1,  0],\n",
    "                                                        [-1, 5, -1],\n",
    "                                                        [0, -1,  0]])\n",
    "            sharpened = np.array([cv2.filter2D(src=image, ddepth=-1, kernel=sharpeningKernel) for image in object])\n",
    "        # Sharpening is done\n",
    "        if type == 'scatter' or type == 'spatstat':\n",
    "            xs = np.array(sharpened, copy=True, dtype=np.float32)\n",
    "            rtn.append(xs)\n",
    "        elif type == 'moran':\n",
    "            xs = np.array(sharpened, copy=True, dtype=np.float32)\n",
    "            avg = np.nanmean(xs)\n",
    "            stddev = np.nanstd(xs)\n",
    "            xs = (xs - avg) / avg\n",
    "            rtn.append(xs)\n",
    "    return rtn\n",
    "\n",
    "\n",
    "def calculateoutliers(objects, type, neighbourhoodSetting, windowSize):\n",
    "    # c, z, y, x = objects.shape\n",
    "\n",
    "    outlierValues = []\n",
    "    index = 0\n",
    "    # return objects\n",
    "    for object in objects:\n",
    "        z, y, x = object.shape\n",
    "        # Step 1: calculate neighbourhood\n",
    "        neighbourkernel = np.ones((neighbourhoodSetting, neighbourhoodSetting)) / neighbourhoodSetting**2\n",
    "        flatNeighbourhood = np.array([cv2.filter2D(src=layer, ddepth=-1, kernel=neighbourkernel) for layer in object])\n",
    "        neighbourhoodValues = np.array([\n",
    "            np.sum(flatNeighbourhood[layerIndex-windowSize:layerIndex], axis=0)/windowSize\n",
    "            for layerIndex in range(windowSize, z+1)\n",
    "        ])\n",
    "        # Step 2: calculate outlier\n",
    "        offset = windowSize // 2\n",
    "        endoffset = windowSize - offset - 1\n",
    "\n",
    "        ys = neighbourhoodValues[0:z-windowSize+1]\n",
    "        xs = object[offset:z-endoffset]\n",
    "        filter = np.logical_and(np.isfinite(xs), np.isfinite(ys))\n",
    "\n",
    "        # plt.imshow(xs[0])\n",
    "        # plt.figure()\n",
    "        # plt.imshow(xs[0])\n",
    "        # plt.figure()\n",
    "        # if(index == 58):\n",
    "        #     plt.imshow(xs[0])\n",
    "        #     plt.figure()\n",
    "        #     plt.imshow(ys[0])\n",
    "        #     plt.figure()\n",
    "        #     plt.imshow(filter[0])\n",
    "        #     plt.figure()\n",
    "        #     print(len(np.unique(filter)))\n",
    "        numberOfFilterValues = len(np.unique(filter))\n",
    "        # print(\"filterlength is: \", numberOfFilterValues)\n",
    "        # print(\"index is:\", index)\n",
    "        assert numberOfFilterValues == 2, f\"Expected filter to have two values, got: {numberOfFilterValues}\"\n",
    "        if type == 'spatstat':\n",
    "            outliers = xs - ys\n",
    "            avg = np.mean(outliers[filter])\n",
    "            std = np.std(outliers[filter])\n",
    "            outliers = (outliers - avg) / std\n",
    "            outlierValues.append(outliers)\n",
    "        else:\n",
    "            with warnings.catch_warnings():\n",
    "                line = np.polyfit(xs[filter].flatten(), ys[filter].flatten(), 1)\n",
    "                p = np.poly1d(line)\n",
    "                outlierValues.append(p(xs) - ys)\n",
    "            # plt.scatter(xs[filter].flatten(), ys[filter].flatten())\n",
    "            # plt.axline((-0.1, p(-0.1)), (0, p(0)), linewidth=2, color='b')\n",
    "            # plt.figure()\n",
    "            assert(xs.shape == p(ys).shape)\n",
    "        assert(len(np.unique(outlierValues[index])) > 1)\n",
    "        assert(len(np.unique(np.isfinite(outlierValues[index]))) == 2)\n",
    "        index+=1\n",
    "    # print(\"okidk \", np.average(np.isfinite(outlierValues)))\n",
    "    # assert(np.average(np.isfinite(outlierValues)) > 0.4)\n",
    "    return outlierValues\n",
    "\n",
    "def encode(outlierobjects, type, buckets, minval=0, maxval=0, transformer=None):\n",
    "    numberOfObjects = len(outlierobjects)\n",
    "    X = np.full((numberOfObjects, buckets), np.nan)\n",
    "    raw = np.concatenate([oo.flatten() for oo in outlierobjects])\n",
    "    filter = np.isfinite(raw)\n",
    "    minval = np.min(raw[filter]) if minval == 0 else minval\n",
    "    maxval = np.max(raw[filter]) if maxval == 0 else maxval\n",
    "    for index in range(0, numberOfObjects):\n",
    "        xs = outlierobjects[index]\n",
    "        filter = np.isfinite(xs)\n",
    "        hist, edges = np.histogram(xs[filter], bins=buckets, range=(minval, maxval), density=True)\n",
    "        X[index] = np.array(hist)\n",
    "    \n",
    "    return X, minval, maxval, edges, transformer\n",
    "\n",
    "def classify(Xtrain, Ytrain, Xtest, Ytest, type, histnormalise=True):\n",
    "    clf = neighbors.KNeighborsClassifier() if type == 'KNN' else RandomForestClassifier()\n",
    "    if (histnormalise == True):\n",
    "        clf = Pipeline([('scaler', StandardScaler()), ('classifier', clf)])\n",
    "    # cvs = cross_val_score(clf, Xtrain, Ytrain, cv=5, scoring='roc_auc', n_jobs=-1)\n",
    "    clf.fit(Xtrain, Ytrain)\n",
    "    Yfit = clf.predict(Xtest)\n",
    "    Yprobs = clf.predict_proba(Xtest)\n",
    "    \n",
    "    return Yfit, Yprobs\n",
    "    # How do we return values for the POD? \n",
    "    # We want to return the ratio..."
   ]
  },
  {
   "cell_type": "code",
   "execution_count": 44,
   "metadata": {},
   "outputs": [],
   "source": [
    "# parameter settings\n",
    "types = ['scatter', 'spatstat', 'moran', ]\n",
    "sharpening = ['none', 'direct',]\n",
    "windowsizes = [1, 3, 5, 7]\n",
    "neighbourhoodsize = [3, 5, 7]\n",
    "bins = [5, 10, 20, 40, 80]\n",
    "histnormalise = [True, False]\n",
    "k = [3,5,10,15]"
   ]
  },
  {
   "cell_type": "code",
   "execution_count": 45,
   "metadata": {},
   "outputs": [],
   "source": [
    "# Narrow settings for iterating\n",
    "types = ['scatter', 'spatstat', 'moran']\n",
    "sharpening = ['none']\n",
    "windowsizes = [1, 3, 5]\n",
    "neighbourhoodSetting = ['grid']\n",
    "bins = [5,10,20,40]\n",
    "histnormalise = [True, False]\n",
    "k = [5,10,15]"
   ]
  },
  {
   "cell_type": "code",
   "execution_count": 46,
   "metadata": {},
   "outputs": [],
   "source": [
    "# parameter settings for the report. Might wanna expand down the line?\n",
    "types = ['scatter', 'spatstat', 'moran']\n",
    "sharpening = ['none']\n",
    "windowsizes = [1, 3, 5, 7]\n",
    "neighbourhoodsize = [3, 5, 7]\n",
    "bins = [5, 10, 20, 40, 80]\n",
    "histnormalise = [True]\n",
    "k = [5]"
   ]
  },
  {
   "cell_type": "code",
   "execution_count": 47,
   "metadata": {},
   "outputs": [],
   "source": [
    "from sklearn import metrics\n",
    "\n",
    "# Now to tie it all together...\n",
    "settingcolumns = ['threshold', 'classifier', 'type', 'z', 'xy', 'bins']\n",
    "settings =  pd.DataFrame([\n",
    "    [0.1, 'KNN', 'moran', 1, 3, 20],\n",
    "    [0.1, 'KNN', 'moran', 1, 3, 80],\n",
    "], columns=settingcolumns)\n",
    "\n",
    "def getPodAndRoc (trainobjects, trainobjectinfo, testobjects, testobjectinfo, classifier, type, z, xy, bins):\n",
    "    sharpSetting = 'none'\n",
    "\n",
    "    Ytrain = np.array(trainobjectinfo.loc[:,\"Label\"])\n",
    "    Ytest = np.array(testobjectinfo.loc[:,\"Label\"])\n",
    "    trainpreprocessed =preprocess(trainobjects, type, sharpSetting)\n",
    "    testpreprocessed =preprocess(testobjects, type, sharpSetting)\n",
    "\n",
    "    trainoutliers = calculateoutliers(trainpreprocessed, type, xy, z)\n",
    "    testoutliers = calculateoutliers(testpreprocessed, type, xy, z)\n",
    "\n",
    "    Xtrain, minval, maxval, edges, transformer = encode(trainoutliers, type, bins)\n",
    "    Xtest, _, _, _, _ = encode(testoutliers, type, bins, minval=minval, maxval=maxval, transformer=transformer)\n",
    "\n",
    "    # Print in the classify function, can't do it outside? \n",
    "    Ypred, Yprobs = classify(Xtrain, Ytrain, Xtest, Ytest, classifier)\n",
    "    \n",
    "    # limits = np.logspace(-1, 1, num=20)\n",
    "    # limits = np.array([0.0,0.01,0.02,0.03,0.04,0.05,0.06,0.07,0.08,0.09,0.1,0.11,0.12,0.13,0.14,0.15,0.16,0.17,0.18,0.19,0.2])\n",
    "\n",
    "    # recall = [metrics.recall_score(np.where(testobjectinfo.Porosity > limit, 1, 0), Ypred) for limit in limits ]\n",
    "    # precision = [metrics.precision_score(np.where(testobjectinfo.Porosity > limit, 1, 0), Ypred) for limit in limits ]\n",
    "    \n",
    "    return Ypred, Yprobs[:,1]"
   ]
  },
  {
   "cell_type": "code",
   "execution_count": 147,
   "metadata": {},
   "outputs": [
    {
     "name": "stdout",
     "output_type": "stream",
     "text": [
      "fetching data with objectsplit: 1, upsamplingratio: 1, positive_multiplier: 1, porositythreshold: 0.5\n",
      "fetching data with  0.5\n",
      "fetching data with objectsplit: 1, upsamplingratio: 1, positive_multiplier: 1, porositythreshold: 0.25\n",
      "fetching data with  0.25\n"
     ]
    }
   ],
   "source": [
    "# Starting with V-set evaluation\n",
    "\n",
    "from sklearn.metrics import roc_curve, roc_auc_score, ConfusionMatrixDisplay\n",
    "\n",
    "\n",
    "settingcolumns = ['threshold', 'classifier', 'type', 'z', 'xy', 'bins']\n",
    "settings =  pd.DataFrame([\n",
    "    [0.5, 'KNN', 'moran', 1, 7, 40],\n",
    "    [0.5, 'KNN', 'spatstat', 1, 7, 20],\n",
    "    [0.5, 'KNN', 'spatstat', 1, 5, 10],\n",
    "    [0.25, 'KNN', 'moran', 1, 7, 40],\n",
    "    [0.25, 'KNN', 'moran', 1, 3, 5],\n",
    "    [0.25, 'KNN', 'spatstat', 1, 3, 20],\n",
    "    [0.10, 'KNN', 'moran', 7, 3, 20],\n",
    "    [0.10, 'KNN', 'spatstat', 1, 5, 5],\n",
    "    [0.10, 'KNN', 'moran', 7, 5, 40],\n",
    "], columns=settingcolumns)\n",
    "for threshold in [0.5, 0.25, 0.1]:\n",
    "# for threshold in [0.25]:\n",
    "    trainobjects, trainobjectinfo = getTrainObjects(porositythreshold=threshold)\n",
    "    testobjects, testobjectinfo = getTestObjects(porositythreshold=threshold)\n",
    "    scoresMap = {}\n",
    "    for index, object in settings[settings.threshold == threshold].iterrows():\n",
    "        name = \"Moran scatter plot\" if object.type == \"moran\" else \"Spatial statistics\" if object.type == \"spatstat\" else \"Scatter plot\"\n",
    "        Ypred, Yprobs = getPodAndRoc(trainobjects, trainobjectinfo, testobjects, testobjectinfo, object.classifier, object.type, object.z, object.xy, object.bins)\n",
    "        Ytest = np.array(testobjectinfo.loc[:,\"Label\"])\n",
    "        fpr , tpr, thresholds = roc_curve(Ytest, Yprobs)\n",
    "        auc = roc_auc_score(Ytest, Yprobs)\n",
    "        f1 = metrics.f1_score(Ytest, Ypred)\n",
    "        label = f'{object.classifier}, {name}, Z={object.z}, XY={object.xy}, Bins={object.bins} (AUC={auc:.3f}, F1={f1:.3f})'\n",
    "        scoresMap[label] = (Ypred, Yprobs)\n",
    "        plt.plot(fpr, tpr, label=label)\n",
    "    \n",
    "    Ytrain = np.array(trainobjectinfo.loc[:,\"Label\"])\n",
    "    Ytest = np.array(testobjectinfo.loc[:,\"Label\"])\n",
    "    Xtrain = np.array([np.nanmean(object) for object in trainobjects])\n",
    "    Xtest = np.array([np.nanmean(object) for object in testobjects])\n",
    "    clf = tree.DecisionTreeClassifier(max_depth=1)\n",
    "    clf.fit(Xtrain.reshape(-1, 1), Ytrain)\n",
    "    Ypred = clf.predict(Xtest.reshape(-1, 1))\n",
    "    Yprobs = clf.predict_proba(Xtest.reshape(-1, 1))[:,1]\n",
    "    \n",
    "    auc = roc_auc_score(Ytest, Yprobs)\n",
    "    fpr , tpr, thresholds = roc_curve(Ytest, Yprobs)\n",
    "    f1 = metrics.f1_score(Ytest, Ypred)\n",
    "    label = f'Baseline (AUC={auc:.3f}, F1={f1:.3f})'\n",
    "    plt.plot(fpr, tpr, label=label)\n",
    "    plt.legend()\n",
    "    plt.title(\"ROC for threshold = \" + str(threshold))\n",
    "    plt.xlabel(\"False positive rate\")\n",
    "    plt.ylabel(\"True positive rate\")\n",
    "    plt.figure()\n",
    "    scoresMap[label] = (Ypred, Yprobs)\n",
    "\n",
    "    # Confusion matricies\n",
    "    for key in scoresMap.keys():\n",
    "        Ypred, Yprobs = scoresMap[key]\n",
    "        Ytest = np.array(testobjectinfo.loc[:,\"Label\"])\n",
    "        cm = metrics.confusion_matrix(Ytest, Ypred)\n",
    "        disp = ConfusionMatrixDisplay(confusion_matrix=cm, display_labels=[\"Solid\", \"Porous\"])\n",
    "        disp.plot()\n",
    "        plt.title(key)\n",
    "        plt.figure()\n",
    "\n",
    "    # Precision recall plot\n",
    "    for key in scoresMap.keys():\n",
    "        Ypred, Yprobs = scoresMap[key]\n",
    "        Ytest = np.array(testobjectinfo.loc[:,\"Label\"])\n",
    "        precision, recall, thresholds = metrics.precision_recall_curve(Ytest, Yprobs)\n",
    "        plt.plot(recall, precision, label=key)\n",
    "    plt.title(\"Precision/recall plot for threshold = \" + str(threshold))\n",
    "    plt.xlabel('Recall')\n",
    "    plt.ylabel('Precision')\n",
    "    plt.figure()\n",
    "\n",
    "    # POD plot\n",
    "    for key in scoresMap.keys():\n",
    "        Ypred, Yprobs = scoresMap[key]\n",
    "        Ytest = np.array(testobjectinfo.loc[:,\"Label\"])\n",
    "        limits = np.arange(0, threshold*2+0.01, 0.01)\n",
    "        recall = [metrics.recall_score(np.where(testobjectinfo.Porosity > limit, 1, 0), Ypred) for limit in limits ]\n",
    "        plt.plot(limits, recall, label=key)\n",
    "    plt.plot([0, threshold, threshold, threshold*2], [0, 0, 1, 1], label= \"Ideal classifier\", linestyle='dashed', c='black')\n",
    "    plt.title(\"POD for threshold = \" + str(threshold))\n",
    "    plt.xlabel(\"Sample Porosity, a %\")\n",
    "    plt.ylabel(\"Probability of Detection, POD|a\")\n",
    "    plt.legend()\n",
    "    plt.figure()\n",
    "\n",
    "    # # Add the baseline\n",
    "    # # Plot ROC curves\n",
    "    # # Plot POD curves\n",
    "    # Ytrain = np.array(trainobjectinfo.loc[:,\"Label\"])\n",
    "    # Ytest = np.array(testobjectinfo.loc[:,\"Label\"])\n",
    "    # Xtrain = np.array([np.nanmean(object) for object in trainobjects])\n",
    "    # Xtest = np.array([np.nanmean(object) for object in testobjects])\n",
    "    # clf = tree.DecisionTreeClassifier(max_depth=1)\n",
    "    # clf.fit(Xtrain.reshape(-1, 1), Ytrain)\n",
    "    # Ypred = clf.predict(Xtest.reshape(-1, 1))\n",
    "    # fpr, tpr, _ = metrics.RocCurveDisplay.from_estimator(clf, Xtest.reshape(-1, 1), Ytest)\n",
    "    # plt.show()\n",
    "    # limits = np.array([0.0,0.01,0.02,0.03,0.04,0.05,0.06,0.07,0.08,0.09,0.1,0.11,0.12,0.13,0.14,0.15,0.16,0.17,0.18,0.19,0.2])\n",
    "    # recall = [metrics.recall_score(np.where(testobjectinfo.Porosity > limit, 1, 0), Ypred) for limit in limits ]\n",
    "    # precision = [metrics.precision_score(np.where(testobjectinfo.Porosity > limit, 1, 0), Ypred) for limit in limits ]\n",
    "\n",
    "    # scoresMap['Baseline'] = ((limits, recall, precision))\n",
    "    # getPodAndPlotRoc(trainobjects, trainobjectinfo, testobjects, testobjectinfo, object.threshold, object.classifier, object.type, object.z, object.xy, object.bins)\n",
    "    # Set them up, collect probabilities or classifiers...\n",
    "    # Classifiers is nicer but may not be possible\n",
    "    # Data we need from each classifier:\n",
    "    # Probablility of prediction for each item (and label)\n",
    "    # Don't think we need the classifier to calculate POD...\n",
    "\n",
    "# Show the ROC plot for baseline and for 13 Moran\n",
    "# Show the POD plot for baseline and for 13 Moran"
   ]
  },
  {
   "cell_type": "code",
   "execution_count": 56,
   "metadata": {},
   "outputs": [
    {
     "name": "stdout",
     "output_type": "stream",
     "text": [
      "fetching data with objectsplit: 1, upsamplingratio: 1, positive_multiplier: 1, porositythreshold: 0.25\n",
      "fetching data with  0.25\n",
      "[0.  0.  0.2 1.  1.  1.  0.  0.  0.  0.  0.2 0.2 0.  0.2 0.  0.  0.  0.2\n",
      " 0.  0.2 0.  1.  1.  1.  0.  0.  0.  0.  0.6 0.4 0.  0.4 0.2 0.  0.6 0.\n",
      " 0.  0.6 0.  1.  1.  1.  0.4 0.  0.  1.  0.8 1.  0.  0.  0.2 0.  0.  0.2\n",
      " 0.6 0.6 1.  0.2 0.2 0.2 0.6 0.8 1.  0.  0.  0.  0.  0.4 0.  1.  1.  1.\n",
      " 0.  0.  0.  0.  0.6 0.2]\n"
     ]
    },
    {
     "data": {
      "image/png": "[encoded data removed]",
      "text/plain": [
       "<Figure size 432x288 with 1 Axes>"
      ]
     },
     "metadata": {
      "needs_background": "light"
     },
     "output_type": "display_data"
    }
   ],
   "source": [
    "settingcolumns = ['threshold', 'classifier', 'type', 'z', 'xy', 'bins']\n",
    "settings =  pd.DataFrame([\n",
    "    [0.25, 'KNN', 'moran', 1, 7, 40],\n",
    "], columns=settingcolumns)\n",
    "for threshold in [0.25]:\n",
    "# for threshold in [0.5]:\n",
    "    trainobjects, trainobjectinfo = getTrainObjects(porositythreshold=threshold)\n",
    "    testobjects, testobjectinfo = getTestObjects(porositythreshold=threshold)\n",
    "    scoresMap = {}\n",
    "    for index, object in settings[settings.threshold == threshold].iterrows():\n",
    "        name = \"Moran scatter plot\" if object.type == \"moran\" else \"Spatial statistics\" if object.type == \"spatstat\" else \"Scatter plot\"\n",
    "        Ypred, Yprobs = getPodAndRoc(trainobjects, trainobjectinfo, testobjects, testobjectinfo, object.classifier, object.type, object.z, object.xy, object.bins)\n",
    "        print(Yprobs)\n",
    "        Ytest = np.array(testobjectinfo.loc[:,\"Label\"])\n",
    "        fpr , tpr, thresholds = roc_curve(Ytest, Yprobs, drop_intermediate=False)\n",
    "        plt.plot(fpr, tpr, label=label)\n",
    "        auc = roc_auc_score(Ytest, Yprobs)\n",
    "        label = f'{object.classifier}, {name}, Z={object.z}, XY={object.xy}, Bins={object.bins} (AUC={auc:.2f})'\n",
    "        scoresMap[label] = (Ypred, Yprobs)\n",
    "        plt.plot(fpr, tpr, label=label)"
   ]
  },
  {
   "cell_type": "code",
   "execution_count": 60,
   "metadata": {},
   "outputs": [
    {
     "data": {
      "text/plain": [
       "array([0.        , 0.        , 0.        , 0.0862069 , 0.15517241,\n",
       "       0.37931034, 1.        ])"
      ]
     },
     "execution_count": 60,
     "metadata": {},
     "output_type": "execute_result"
    }
   ],
   "source": [
    "fpr"
   ]
  },
  {
   "cell_type": "code",
   "execution_count": 61,
   "metadata": {},
   "outputs": [
    {
     "data": {
      "text/plain": [
       "array([0. , 0.8, 0.9, 1. , 1. , 1. , 1. ])"
      ]
     },
     "execution_count": 61,
     "metadata": {},
     "output_type": "execute_result"
    }
   ],
   "source": [
    "tpr"
   ]
  },
  {
   "cell_type": "code",
   "execution_count": 66,
   "metadata": {},
   "outputs": [
    {
     "data": {
      "text/plain": [
       "1.0"
      ]
     },
     "execution_count": 66,
     "metadata": {},
     "output_type": "execute_result"
    },
    {
     "data": {
      "image/png": "[encoded data removed]",
      "text/plain": [
       "<Figure size 432x288 with 1 Axes>"
      ]
     },
     "metadata": {
      "needs_background": "light"
     },
     "output_type": "display_data"
    }
   ],
   "source": [
    "from sklearn.metrics import RocCurveDisplay\n",
    "fpr , tpr, thresholds = roc_curve(Ytest, Yprobs, drop_intermediate=False)\n",
    "# plt.plot(fpr, tpr, label=label)\n",
    "RocCurveDisplay.from_predictions(Ytest, Yprobs, )\n",
    "metrics.precision_score(Ytest, Ypred)"
   ]
  },
  {
   "cell_type": "code",
   "execution_count": 127,
   "metadata": {},
   "outputs": [],
   "source": [
    "old_probs = Yprobs"
   ]
  },
  {
   "cell_type": "code",
   "execution_count": 130,
   "metadata": {},
   "outputs": [
    {
     "name": "stdout",
     "output_type": "stream",
     "text": [
      "[1.0, 0.3793103448275862, 0.15517241379310345, 0.0, 0.0, 0.0] [1.0, 1.0, 1.0, 0.9, 0.9, 0.8]\n",
      "0.9922413793103448\n",
      "MINE\n",
      "[1.0, 0.3793103448275862, 0.15517241379310345, 0.0, 0.0, 0.0]\n",
      "[1.0, 1.0, 1.0, 0.9, 0.9, 0.8]\n",
      "[0.  0.2 0.4 0.6 0.8 1. ]\n",
      "SCIKIT LEARN\n",
      "[0.         0.         0.         0.0862069  0.15517241 0.37931034\n",
      " 1.        ]\n",
      "[0.  0.8 0.9 1.  1.  1.  1. ]\n",
      "[2.  1.  0.8 0.6 0.4 0.2 0. ]\n"
     ]
    },
    {
     "data": {
      "image/png": "[encoded data removed]",
      "text/plain": [
       "<Figure size 432x288 with 2 Axes>"
      ]
     },
     "metadata": {
      "needs_background": "light"
     },
     "output_type": "display_data"
    },
    {
     "data": {
      "image/png": "[encoded data removed]",
      "text/plain": [
       "<Figure size 432x288 with 2 Axes>"
      ]
     },
     "metadata": {
      "needs_background": "light"
     },
     "output_type": "display_data"
    },
    {
     "data": {
      "image/png": "[encoded data removed]",
      "text/plain": [
       "<Figure size 432x288 with 2 Axes>"
      ]
     },
     "metadata": {
      "needs_background": "light"
     },
     "output_type": "display_data"
    },
    {
     "data": {
      "image/png": "[encoded data removed]",
      "text/plain": [
       "<Figure size 432x288 with 1 Axes>"
      ]
     },
     "metadata": {
      "needs_background": "light"
     },
     "output_type": "display_data"
    },
    {
     "data": {
      "image/png": "[encoded data removed]",
      "text/plain": [
       "<Figure size 432x288 with 1 Axes>"
      ]
     },
     "metadata": {
      "needs_background": "light"
     },
     "output_type": "display_data"
    },
    {
     "data": {
      "image/png": "[encoded data removed]",
      "text/plain": [
       "<Figure size 432x288 with 1 Axes>"
      ]
     },
     "metadata": {
      "needs_background": "light"
     },
     "output_type": "display_data"
    }
   ],
   "source": [
    "np.bitwise_xor(Ytest, Ypred)\n",
    "\n",
    "\n",
    "# FPR = FP / (FP+TN)\n",
    "\n",
    "# TPR = TP / (TP+FN)\n",
    "# TPR är recall\n",
    "# FPR är 1 - precision\n",
    "Yprobs = np.copy(old_probs)\n",
    "\n",
    "# FPR är alltså andelen falska positiva prediktioner av alla negativa instanser\n",
    "# TPR är alltså andelen korrekta positiva prediktioner av alla positiva instanser\n",
    "old_probs\n",
    "fpr , tpr, thresholds = roc_curve(Ytest, Yprobs, drop_intermediate=False)\n",
    "fpr = []\n",
    "tpr = []\n",
    "for i in np.arange(0, 1.1, 0.2):\n",
    "    Ypred = np.where(Yprobs >= i, 1, 0)\n",
    "    # print(i, 1-metrics.precision_score(Ytest, Ypred), metrics.recall_score(Ytest, Ypred))\n",
    "    fpr_1 = np.sum(np.logical_and(Ypred == 1, Ytest == 0)) / np.count_nonzero(Ytest == 0)\n",
    "    fpr.append(fpr_1)\n",
    "    tpr.append(metrics.recall_score(Ytest, Ypred))\n",
    "\n",
    "# fpr = 1-metrics.precision_score(np.repeat(Ytest, 5, ax), Ypred)\n",
    "\n",
    "print(fpr, tpr)\n",
    "print(metrics.auc(fpr, tpr))\n",
    "Ypred = np.where(Yprobs >= 0.5, 1, 0)\n",
    "Ytest = np.array(testobjectinfo.loc[:,\"Label\"])\n",
    "cm = metrics.confusion_matrix(Ytest, Ypred)\n",
    "disp = ConfusionMatrixDisplay(confusion_matrix=cm, display_labels=[\"Not outlier\", \"Outlier\"])\n",
    "disp.plot()\n",
    "plt.title(\"0.5\")\n",
    "Ypred = np.where(Yprobs >= 0.1, 1, 0)\n",
    "Ytest = np.array(testobjectinfo.loc[:,\"Label\"])\n",
    "cm = metrics.confusion_matrix(Ytest, Ypred)\n",
    "disp = ConfusionMatrixDisplay(confusion_matrix=cm, display_labels=[\"Not outlier\", \"Outlier\"])\n",
    "disp.plot()\n",
    "plt.title(\"0.1\")\n",
    "\n",
    "Ypred = np.where(Yprobs >= 0.4, 1, 0)\n",
    "Ytest = np.array(testobjectinfo.loc[:,\"Label\"])\n",
    "cm = metrics.confusion_matrix(Ytest, Ypred)\n",
    "disp = ConfusionMatrixDisplay(confusion_matrix=cm, display_labels=[\"Not outlier\", \"Outlier\"])\n",
    "disp.plot()\n",
    "plt.title(\"0.4\")\n",
    "\n",
    "\n",
    "plt.figure()\n",
    "plt.plot(fpr, tpr)\n",
    "\n",
    "\n",
    "print(\"MINE\")\n",
    "print(fpr)\n",
    "print(tpr)\n",
    "print(np.arange(0, 1.1, 0.2))\n",
    "print(\"SCIKIT LEARN\")\n",
    "fpr , tpr, thresholds = roc_curve(Ytest, Yprobs, drop_intermediate=False)\n",
    "print(fpr)\n",
    "print(tpr)\n",
    "print(thresholds)\n",
    "# print(metrics.auc(fpr, tpr))\n",
    "plt.ylabel(\"True positive rate (recall)\")\n",
    "plt.xlabel(\"False positive rate (1-precision)\")\n",
    "plt.plot(fpr, tpr)\n",
    "\n",
    "# print(fpr, tpr)\n",
    "# print(np.unique(Yprobs))\n",
    "\n",
    "metrics.PrecisionRecallDisplay.from_predictions(Ytest, Ypred)\n",
    "plt.show()\n",
    "metrics.PrecisionRecallDisplay.from_predictions(Ytest, Yprobs)\n",
    "plt.show()\n"
   ]
  },
  {
   "cell_type": "code",
   "execution_count": 134,
   "metadata": {},
   "outputs": [
    {
     "name": "stdout",
     "output_type": "stream",
     "text": [
      "[0. 0. 1.] [0.   0.75 1.  ] [1.96666667 0.96666667 0.02      ]\n",
      "[0.02       0.02       0.02       0.96666667 0.96666667 0.96666667\n",
      " 0.02       0.02       0.02       0.02       0.02       0.02\n",
      " 0.02       0.02       0.02       0.02       0.02       0.02\n",
      " 0.02       0.02       0.02       0.96666667 0.96666667 0.02\n",
      " 0.02       0.02       0.02       0.02       0.02       0.02\n",
      " 0.02       0.02       0.02       0.02       0.02       0.02\n",
      " 0.02       0.02       0.02       0.96666667 0.96666667 0.02\n",
      " 0.02       0.02       0.02       0.96666667 0.96666667 0.02\n",
      " 0.02       0.02       0.02       0.02       0.02       0.02\n",
      " 0.02       0.02       0.02       0.02       0.02       0.02\n",
      " 0.96666667 0.96666667 0.96666667 0.02       0.02       0.02\n",
      " 0.02       0.02       0.02       0.96666667 0.96666667 0.96666667\n",
      " 0.02       0.02       0.02       0.02       0.02       0.02      ]\n",
      "0.6523549688037277\n"
     ]
    }
   ],
   "source": [
    "Ytrain = np.array(trainobjectinfo.loc[:,\"Label\"])\n",
    "Ytest = np.array(testobjectinfo.loc[:,\"Label\"])\n",
    "Xtrain = np.array([np.nanmean(object) for object in trainobjects])\n",
    "Xtest = np.array([np.nanmean(object) for object in testobjects])\n",
    "clf = tree.DecisionTreeClassifier(max_depth=1)\n",
    "clf.fit(Xtrain.reshape(-1, 1), Ytrain)\n",
    "Ypred = clf.predict(Xtest.reshape(-1, 1))\n",
    "Yprobs = clf.predict_proba(Xtest.reshape(-1, 1))[:,1]\n",
    "\n",
    "auc = roc_auc_score(Ytest, Yprobs)\n",
    "fpr , tpr, thresholds = roc_curve(Ytest, Yprobs)\n",
    "print(fpr, tpr, thresholds)\n",
    "print(Yprobs)\n",
    "print(metrics.v_measure_score(Ytest, Ypred))"
   ]
  },
  {
   "cell_type": "code",
   "execution_count": 58,
   "metadata": {},
   "outputs": [
    {
     "data": {
      "text/plain": [
       "0.9956896551724138"
      ]
     },
     "execution_count": 58,
     "metadata": {},
     "output_type": "execute_result"
    }
   ],
   "source": [
    "roc_auc_score(Ytest, Yprobs)"
   ]
  },
  {
   "cell_type": "code",
   "execution_count": 59,
   "metadata": {},
   "outputs": [
    {
     "data": {
      "text/plain": [
       "0.9568965517241379"
      ]
     },
     "execution_count": 59,
     "metadata": {},
     "output_type": "execute_result"
    }
   ],
   "source": [
    "roc_auc_score(Ytest, Ypred)"
   ]
  },
  {
   "cell_type": "code",
   "execution_count": 52,
   "metadata": {},
   "outputs": [
    {
     "name": "stdout",
     "output_type": "stream",
     "text": [
      "fetching data with objectsplit: 3, upsamplingratio: 1, positive_multiplier: 1, porositythreshold: 0.5\n"
     ]
    },
    {
     "ename": "ValueError",
     "evalue": "not enough values to unpack (expected 4, got 2)",
     "output_type": "error",
     "traceback": [
      "\u001b[0;31m---------------------------------------------------------------------------\u001b[0m",
      "\u001b[0;31mValueError\u001b[0m                                Traceback (most recent call last)",
      "\u001b[1;32m/Users/erik/Git/thesis/final-notebook-v3 plotter.ipynb Cell 10\u001b[0m in \u001b[0;36m<cell line: 15>\u001b[0;34m()\u001b[0m\n\u001b[1;32m      <a href='vscode-notebook-cell:/Users/erik/Git/thesis/final-notebook-v3%20plotter.ipynb#X21sZmlsZQ%3D%3D?line=2'>3</a>\u001b[0m settings \u001b[39m=\u001b[39m  pd\u001b[39m.\u001b[39mDataFrame([\n\u001b[1;32m      <a href='vscode-notebook-cell:/Users/erik/Git/thesis/final-notebook-v3%20plotter.ipynb#X21sZmlsZQ%3D%3D?line=3'>4</a>\u001b[0m     [\u001b[39m0.5\u001b[39m, \u001b[39m'\u001b[39m\u001b[39mKNN\u001b[39m\u001b[39m'\u001b[39m, \u001b[39m'\u001b[39m\u001b[39mscatter\u001b[39m\u001b[39m'\u001b[39m, \u001b[39m1\u001b[39m, \u001b[39m3\u001b[39m, \u001b[39m40\u001b[39m],\n\u001b[1;32m      <a href='vscode-notebook-cell:/Users/erik/Git/thesis/final-notebook-v3%20plotter.ipynb#X21sZmlsZQ%3D%3D?line=4'>5</a>\u001b[0m     [\u001b[39m0.5\u001b[39m, \u001b[39m'\u001b[39m\u001b[39mDT\u001b[39m\u001b[39m'\u001b[39m, \u001b[39m'\u001b[39m\u001b[39mscatter\u001b[39m\u001b[39m'\u001b[39m, \u001b[39m7\u001b[39m, \u001b[39m5\u001b[39m, \u001b[39m40\u001b[39m],\n\u001b[0;32m   (...)\u001b[0m\n\u001b[1;32m     <a href='vscode-notebook-cell:/Users/erik/Git/thesis/final-notebook-v3%20plotter.ipynb#X21sZmlsZQ%3D%3D?line=11'>12</a>\u001b[0m     [\u001b[39m0.10\u001b[39m, \u001b[39m'\u001b[39m\u001b[39mKNN\u001b[39m\u001b[39m'\u001b[39m, \u001b[39m'\u001b[39m\u001b[39mmoran\u001b[39m\u001b[39m'\u001b[39m, \u001b[39m1\u001b[39m, \u001b[39m5\u001b[39m, \u001b[39m40\u001b[39m],\n\u001b[1;32m     <a href='vscode-notebook-cell:/Users/erik/Git/thesis/final-notebook-v3%20plotter.ipynb#X21sZmlsZQ%3D%3D?line=12'>13</a>\u001b[0m ], columns\u001b[39m=\u001b[39msettingcolumns)\n\u001b[1;32m     <a href='vscode-notebook-cell:/Users/erik/Git/thesis/final-notebook-v3%20plotter.ipynb#X21sZmlsZQ%3D%3D?line=14'>15</a>\u001b[0m \u001b[39mfor\u001b[39;00m threshold \u001b[39min\u001b[39;00m [\u001b[39m0.5\u001b[39m, \u001b[39m0.25\u001b[39m, \u001b[39m0.1\u001b[39m]:\n\u001b[1;32m     <a href='vscode-notebook-cell:/Users/erik/Git/thesis/final-notebook-v3%20plotter.ipynb#X21sZmlsZQ%3D%3D?line=15'>16</a>\u001b[0m \u001b[39m# for threshold in [0.5]:\u001b[39;00m\n\u001b[0;32m---> <a href='vscode-notebook-cell:/Users/erik/Git/thesis/final-notebook-v3%20plotter.ipynb#X21sZmlsZQ%3D%3D?line=16'>17</a>\u001b[0m     trainobjects, trainobjectinfo, testobjects, testobjectinfo \u001b[39m=\u001b[39m getTrainObjects(porositythreshold\u001b[39m=\u001b[39mthreshold, objectsplit\u001b[39m=\u001b[39m\u001b[39m3\u001b[39m, separate_test\u001b[39m=\u001b[39m\u001b[39mFalse\u001b[39;00m)\n\u001b[1;32m     <a href='vscode-notebook-cell:/Users/erik/Git/thesis/final-notebook-v3%20plotter.ipynb#X21sZmlsZQ%3D%3D?line=17'>18</a>\u001b[0m     \u001b[39m# testobjects, testobjectinfo = getTestObjects(porositythreshold=threshold)\u001b[39;00m\n\u001b[1;32m     <a href='vscode-notebook-cell:/Users/erik/Git/thesis/final-notebook-v3%20plotter.ipynb#X21sZmlsZQ%3D%3D?line=18'>19</a>\u001b[0m     scoresMap \u001b[39m=\u001b[39m {}\n",
      "\u001b[0;31mValueError\u001b[0m: not enough values to unpack (expected 4, got 2)"
     ]
    }
   ],
   "source": [
    "# Now the H-set evaluation\n",
    "settingcolumns = ['threshold', 'classifier', 'type', 'z', 'xy', 'bins']\n",
    "settings =  pd.DataFrame([\n",
    "    [0.5, 'KNN', 'scatter', 1, 3, 40],\n",
    "    [0.5, 'DT', 'scatter', 7, 5, 40],\n",
    "    [0.5, 'DT', 'moran', 7, 5, 40],\n",
    "    [0.25, 'KNN', 'spatstat', 1, 3, 40],\n",
    "    [0.25, 'KNN', 'moran', 1, 3, 20],\n",
    "    [0.25, 'KNN', 'moran', 7, 7, 20],\n",
    "    [0.10, 'DT', 'scatter', 1, 3, 40],\n",
    "    [0.10, 'DT', 'moran', 1, 5, 10],\n",
    "    [0.10, 'KNN', 'moran', 1, 5, 40],\n",
    "], columns=settingcolumns)\n",
    "\n",
    "for threshold in [0.5, 0.25, 0.1]:\n",
    "# for threshold in [0.5]:\n",
    "    trainobjects, trainobjectinfo, testobjects, testobjectinfo = getTrainObjects(porositythreshold=threshold, objectsplit=3, separate_test=False)\n",
    "    # testobjects, testobjectinfo = getTestObjects(porositythreshold=threshold)\n",
    "    scoresMap = {}\n",
    "    for index, object in settings[settings.threshold == threshold].iterrows():\n",
    "        name = \"Moran scatter plot\" if object.type == \"moran\" else \"Spatial statistics\" if object.type == \"spatstat\" else \"Scatter plot\"\n",
    "        Ypred, Yprobs = getPodAndRoc(trainobjects, trainobjectinfo, testobjects, testobjectinfo, object.classifier, object.type, object.z, object.xy, object.bins)\n",
    "        Ytest = np.array(testobjectinfo.loc[:,\"Label\"])\n",
    "        fpr , tpr, thresholds = roc_curve(Ytest, Yprobs)\n",
    "        auc = roc_auc_score(Ytest, Ypred)\n",
    "        label = f'{object.classifier}, {name}, Z={object.z}, XY={object.xy}, Bins={object.bins} (AUC={auc:.2f})'\n",
    "        plt.plot(fpr, tpr, label=label)\n",
    "    \n",
    "    Ytrain = np.array(trainobjectinfo.loc[:,\"Label\"])\n",
    "    Ytest = np.array(testobjectinfo.loc[:,\"Label\"])\n",
    "    Xtrain = np.array([np.nanmean(object) for object in trainobjects])\n",
    "    Xtest = np.array([np.nanmean(object) for object in testobjects])\n",
    "    clf = tree.DecisionTreeClassifier(max_depth=1)\n",
    "    clf.fit(Xtrain.reshape(-1, 1), Ytrain)\n",
    "    Ypred = clf.predict(Xtest.reshape(-1, 1))\n",
    "    Yprobs = clf.predict_proba(Xtest.reshape(-1, 1))[:,1]\n",
    "    \n",
    "    auc = roc_auc_score(Ytest, Ypred)\n",
    "    fpr , tpr, thresholds = roc_curve(Ytest, Yprobs)\n",
    "    label = f'Baseline (AUC={auc:.2f})'\n",
    "    plt.plot(fpr, tpr, label=label)\n",
    "    plt.legend()\n",
    "    plt.title(\"ROC for threshold = \" + str(threshold))\n",
    "    plt.figure()"
   ]
  },
  {
   "cell_type": "code",
   "execution_count": 8,
   "metadata": {},
   "outputs": [],
   "source": [
    "# Now to tie it all together...\n",
    "settingcolumns = ['threshold', 'classifier', 'type', 'z', 'xy', 'bins']\n",
    "settings =  pd.DataFrame([\n",
    "    [0.1, 'KNN', 'moran', 1, 3, 5],\n",
    "    # ...\n",
    "], columns=settingcolumns)"
   ]
  },
  {
   "cell_type": "code",
   "execution_count": 19,
   "metadata": {},
   "outputs": [
    {
     "name": "stdout",
     "output_type": "stream",
     "text": [
      "fetching data with  0.1\n",
      "fetching data with objectsplit: 1, upsamplingratio: 1, positive_multiplier: 1, porositythreshold: 0.1\n"
     ]
    },
    {
     "data": {
      "image/png": "[encoded data removed]",
      "text/plain": [
       "<Figure size 432x288 with 1 Axes>"
      ]
     },
     "metadata": {
      "needs_background": "light"
     },
     "output_type": "display_data"
    },
    {
     "data": {
      "image/png": "[encoded data removed]",
      "text/plain": [
       "<Figure size 432x288 with 1 Axes>"
      ]
     },
     "metadata": {
      "needs_background": "light"
     },
     "output_type": "display_data"
    },
    {
     "data": {
      "image/png": "[encoded data removed]",
      "text/plain": [
       "<Figure size 432x288 with 1 Axes>"
      ]
     },
     "metadata": {
      "needs_background": "light"
     },
     "output_type": "display_data"
    }
   ],
   "source": [
    "from distutils.file_util import write_file\n",
    "from sklearn.ensemble import RandomForestClassifier\n",
    "from sklearn import neighbors, metrics\n",
    "from sklearn import tree\n",
    "from sklearn.inspection import DecisionBoundaryDisplay\n",
    "\n",
    "# Read data\n",
    "\n",
    "# Do the things\n",
    "# Check the baseline\n",
    "# for i in [0.1, 0.25, 0.5]:\n",
    "oldThreshold = 0\n",
    "scoresMap = {}\n",
    "for index, object in settings.iterrows():\n",
    "    if(object.threshold != oldThreshold):\n",
    "        testobjects, testobjectinfo = getTestObjects(porositythreshold=object.threshold)\n",
    "        trainobjects, trainobjectinfo = getTrainObjects(porositythreshold=object.threshold)\n",
    "        oldThreshold = object.threshold\n",
    "    scoresMap[str(object.classifier) + str(object.type) + str(object.z) + str(object.xy) + str(object.bins)] = getPodAndPlotRoc(trainobjects, trainobjectinfo, testobjects, testobjectinfo, object.threshold, object.classifier, object.type, object.z, object.xy, object.bins)\n",
    "# Add the baseline\n",
    "Ytrain = np.array(trainobjectinfo.loc[:,\"Label\"])\n",
    "Ytest = np.array(testobjectinfo.loc[:,\"Label\"])\n",
    "Xtrain = np.array([np.nanmean(object) for object in trainobjects])\n",
    "Xtest = np.array([np.nanmean(object) for object in testobjects])\n",
    "clf = tree.DecisionTreeClassifier(max_depth=1)\n",
    "clf.fit(Xtrain.reshape(-1, 1), Ytrain)\n",
    "Ypred = clf.predict(Xtest.reshape(-1, 1))\n",
    "fpr, tpr, _ = metrics.RocCurveDisplay.from_estimator(clf, Xtest.reshape(-1, 1), Ytest)\n",
    "plt.show()\n",
    "limits = np.array([0.0,0.01,0.02,0.03,0.04,0.05,0.06,0.07,0.08,0.09,0.1,0.11,0.12,0.13,0.14,0.15,0.16,0.17,0.18,0.19,0.2])\n",
    "recall = [metrics.recall_score(np.where(testobjectinfo.Porosity > limit, 1, 0), Ypred) for limit in limits ]\n",
    "precision = [metrics.precision_score(np.where(testobjectinfo.Porosity > limit, 1, 0), Ypred) for limit in limits ]\n",
    "\n",
    "scoresMap['Baseline'] = ((limits, recall, precision))\n",
    "# scoresMap['Ideal classifier'] = ((limits, np.where(limits > 0.1, 1, 0), limits))\n",
    "\n"
   ]
  },
  {
   "cell_type": "code",
   "execution_count": 14,
   "metadata": {},
   "outputs": [
    {
     "data": {
      "text/plain": [
       "<matplotlib.legend.Legend at 0x28b393910>"
      ]
     },
     "execution_count": 14,
     "metadata": {},
     "output_type": "execute_result"
    },
    {
     "data": {
      "image/png": "[encoded data removed]",
      "text/plain": [
       "<Figure size 432x288 with 1 Axes>"
      ]
     },
     "metadata": {
      "needs_background": "light"
     },
     "output_type": "display_data"
    }
   ],
   "source": [
    "plt.plot(\n",
    "    np.array([0.0,0.01,0.02,0.03,0.04,0.05,0.06,0.07,0.08,0.09,0.1,0.1,0.11,0.12,0.13,0.14,0.15,0.16,0.17,0.18,0.19,0.2]),\n",
    "    np.array([0,0,0,0,0,0,0,0,0,0,0,1,1,1,1,1,1,1,1,1,1,1]), label='Ideal classifier', c='black', linestyle='dashed')\n",
    "for key in scoresMap:\n",
    "    (x, y1, y2) = scoresMap[key]\n",
    "    plt.plot(x, y1, label=key)\n",
    "    # plt.plot(x, y2, label='precision')\n",
    "plt.grid(visible=True)\n",
    "plt.legend()\n",
    "# plt.xscale('log')"
   ]
  },
  {
   "cell_type": "code",
   "execution_count": 36,
   "metadata": {},
   "outputs": [
    {
     "name": "stdout",
     "output_type": "stream",
     "text": [
      "0     True\n",
      "1     True\n",
      "2     True\n",
      "3     True\n",
      "4     True\n",
      "      ... \n",
      "73    True\n",
      "74    True\n",
      "75    True\n",
      "76    True\n",
      "77    True\n",
      "Name: Porosity, Length: 78, dtype: bool\n",
      "[0.   0.01 0.02 0.03 0.04 0.05 0.06 0.07 0.08 0.09 0.1  0.11 0.12 0.13\n",
      " 0.14 0.15 0.16 0.17 0.18 0.19 0.2 ]\n",
      "[0.34615384615384615, 0.35064935064935066, 0.3698630136986301, 0.4406779661016949, 0.5306122448979592, 0.5777777777777777, 0.6756756756756757, 0.7058823529411765, 0.7272727272727273, 0.75, 0.8, 0.8, 0.8518518518518519, 0.8461538461538461, 0.9130434782608695, 0.9545454545454546, 0.9545454545454546, 0.9545454545454546, 1.0, 1.0, 1.0]\n",
      "[0.   0.01 0.02 0.03 0.04 0.05 0.06 0.07 0.08 0.09 0.1  0.11 0.12 0.13\n",
      " 0.14 0.15 0.16 0.17 0.18 0.19 0.2 ]\n",
      "[0.34615384615384615, 0.35064935064935066, 0.3698630136986301, 0.4406779661016949, 0.5306122448979592, 0.5777777777777777, 0.6756756756756757, 0.6764705882352942, 0.696969696969697, 0.71875, 0.7666666666666667, 0.7666666666666667, 0.8148148148148148, 0.8461538461538461, 0.9130434782608695, 0.9545454545454546, 0.9545454545454546, 0.9545454545454546, 1.0, 1.0, 1.0]\n",
      "[0.   0.01 0.02 0.03 0.04 0.05 0.06 0.07 0.08 0.09 0.1  0.11 0.12 0.13\n",
      " 0.14 0.15 0.16 0.17 0.18 0.19 0.2 ]\n",
      "[0.3076923076923077, 0.3116883116883117, 0.3287671232876712, 0.4067796610169492, 0.46938775510204084, 0.4888888888888889, 0.5675675675675675, 0.6176470588235294, 0.6363636363636364, 0.65625, 0.7, 0.7, 0.7777777777777778, 0.8076923076923077, 0.9130434782608695, 0.9545454545454546, 0.9545454545454546, 0.9545454545454546, 1.0, 1.0, 1.0]\n"
     ]
    },
    {
     "data": {
      "image/png": "[encoded data removed]",
      "text/plain": [
       "<Figure size 432x288 with 1 Axes>"
      ]
     },
     "metadata": {
      "needs_background": "light"
     },
     "output_type": "display_data"
    }
   ],
   "source": [
    "dafuq = [np.where(testobjectinfo.Porosity > limit, 1, 0) for limit in limits ]\n",
    "\n",
    "print(testobjectinfo.Porosity > 0)\n",
    "\n",
    "plt.figure()\n",
    "for (x, y1, y2) in scores:\n",
    "    plt.plot(x, y1, label='recall')\n",
    "    print(x)\n",
    "    print(y1)\n",
    "    plt.plot(x, y2, label='precision')\n",
    "    plt.grid(visible=True)\n",
    "    plt.legend()"
   ]
  },
  {
   "cell_type": "code",
   "execution_count": 33,
   "metadata": {},
   "outputs": [
    {
     "ename": "NameError",
     "evalue": "name 'TP' is not defined",
     "output_type": "error",
     "traceback": [
      "\u001b[0;31m---------------------------------------------------------------------------\u001b[0m",
      "\u001b[0;31mNameError\u001b[0m                                 Traceback (most recent call last)",
      "\u001b[1;32m/Users/erik/Git/thesis/final-notebook-v3 plotter.ipynb Cell 12\u001b[0m in \u001b[0;36m<cell line: 1>\u001b[0;34m()\u001b[0m\n\u001b[0;32m----> <a href='vscode-notebook-cell:/Users/erik/Git/thesis/final-notebook-v3%20plotter.ipynb#X15sZmlsZQ%3D%3D?line=0'>1</a>\u001b[0m recall \u001b[39m=\u001b[39m TP \u001b[39m/\u001b[39m (TP \u001b[39m+\u001b[39m FN)\n",
      "\u001b[0;31mNameError\u001b[0m: name 'TP' is not defined"
     ]
    }
   ],
   "source": [
    "recall = TP / (TP + FN)\n",
    "precision = TP / (TP + FP)"
   ]
  },
  {
   "cell_type": "code",
   "execution_count": 34,
   "metadata": {},
   "outputs": [
    {
     "data": {
      "image/png": "[encoded data removed]",
      "text/plain": [
       "<Figure size 432x288 with 1 Axes>"
      ]
     },
     "metadata": {
      "needs_background": "light"
     },
     "output_type": "display_data"
    }
   ],
   "source": [
    "for (x, y1, y2) in scores:\n",
    "    plt.plot(x, y1, label='recall')\n",
    "    plt.plot(x, y2, label='precision')\n",
    "    plt.grid(visible=True, which='both')\n",
    "    plt.xscale('log')"
   ]
  }
 ],
 "metadata": {
  "kernelspec": {
   "display_name": "Python 3.9.13 ('thesis-env': venv)",
   "language": "python",
   "name": "python3"
  },
  "language_info": {
   "codemirror_mode": {
    "name": "ipython",
    "version": 3
   },
   "file_extension": ".py",
   "mimetype": "text/x-python",
   "name": "python",
   "nbconvert_exporter": "python",
   "pygments_lexer": "ipython3",
   "version": "3.9.14"
  },
  "orig_nbformat": 4,
  "vscode": {
   "interpreter": {
    "hash": "1b582782fd74adb665333939d2eb8c9995c52902e0db289bedb880e3a83e2d4f"
   }
  }
 },
 "nbformat": 4,
 "nbformat_minor": 2
}
