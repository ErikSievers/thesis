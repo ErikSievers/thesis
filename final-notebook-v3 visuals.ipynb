{
 "cells": [
  {
   "cell_type": "markdown",
   "metadata": {},
   "source": [
    "Using the other object as test set 🤪"
   ]
  },
  {
   "cell_type": "code",
   "execution_count": 10,
   "metadata": {},
   "outputs": [],
   "source": [
    "# Bonus cell for using the different test set\n",
    "\n",
    "import pandas as pd\n",
    "import numpy as np\n",
    "import matplotlib.pyplot as plt\n",
    "import pathlib\n",
    "from copy import copy\n",
    "from matplotlib import cm, colors\n",
    "import cv2\n",
    "\n",
    "objectwidth = 100\n",
    "objectheight = 100\n",
    "xspacing = 116\n",
    "yspacing = 300\n",
    "xstart = 293\n",
    "ystart = 445\n",
    "xend = 1730\n",
    "yend = 1770\n",
    "powderthickness = 80\n",
    "endlayer = 225\n",
    "\n",
    "paths = pathlib.Path('./OT data 80 um/int').glob('*.tif')\n",
    "paths_sorted = [x for x in paths]\n",
    "paths_sorted.sort()\n",
    "integrals = np.array([np.array(plt.imread(path)) for path in paths_sorted])\n",
    "\n",
    "objectinfo = pd.read_csv('Parameters2.csv', names=[\"Object\", \"P\", \"S\", \"H\", \"Porosity\", \"Label\"])\n",
    "objectinfo.insert(1, \"VED\", objectinfo.P * 1000/(objectinfo.S * objectinfo.H * powderthickness))\n",
    "objectCoordinates = [[x, x+objectwidth, y, y+objectheight] for y in reversed(range(\n",
    "    ystart, yend, objectheight + yspacing)) for x in range(xstart, xend, xspacing + objectwidth)]\n",
    "coorddf = pd.DataFrame(objectCoordinates, columns=['xstart', 'xend', 'ystart', 'yend'])\n",
    "objectinfo = coorddf.join(objectinfo)\n",
    "\n",
    "del coorddf\n",
    "del objectCoordinates\n",
    "del paths_sorted\n",
    "\n",
    "objectinfo.drop(objectinfo[objectinfo.Label == 'KH'].index, inplace=True)\n",
    "objectinfo.replace('GOOD', 0, inplace=True)\n",
    "objectinfo.replace('LOF', 1, inplace=True)\n",
    "objectinfo.reset_index(drop=True, inplace=True)\n",
    "\n",
    "objects = np.full((len(objectinfo), endlayer, objectheight, objectwidth), np.nan)\n",
    "\n",
    "for index, object in objectinfo.iterrows():\n",
    "    objects[index] = integrals[:, object.ystart:object.yend, object.xstart:object.xend]\n",
    "del integrals\n",
    "\n",
    "aggregate = np.sum(objects, axis=(0))\n",
    "\n",
    "emptyRatio = 30\n",
    "limit = np.percentile(aggregate, emptyRatio)\n",
    "testmask = aggregate >= limit\n",
    "\n",
    "testobjects = objects\n",
    "testobjectinfo = objectinfo\n",
    "del objects\n",
    "del objectinfo"
   ]
  },
  {
   "cell_type": "code",
   "execution_count": 14,
   "metadata": {},
   "outputs": [],
   "source": [
    "# Read train data\n",
    "\n",
    "import pandas as pd\n",
    "import numpy as np\n",
    "import matplotlib.pyplot as plt\n",
    "import pathlib\n",
    "from copy import copy\n",
    "from matplotlib import cm, colors\n",
    "import cv2\n",
    "\n",
    "emptyRatio = 47\n",
    "objectwidth = 83\n",
    "objectheight = 122\n",
    "xspacing = 133\n",
    "yspacing = 270\n",
    "xstart = 293\n",
    "ystart = 268\n",
    "xend = 1730\n",
    "yend = 1770\n",
    "powderthickness = 80\n",
    "endlayer = 187\n",
    "separate_test = True\n",
    "objectsplit = 1\n",
    "upsamplingratio = 1\n",
    "positive_multiplier = 1\n",
    "\n",
    "paths = pathlib.Path('./OT data 80 um/int').glob('*.tif')\n",
    "paths_sorted = [x for x in paths]\n",
    "paths_sorted.sort()\n",
    "block = np.array([np.array(plt.imread(path)) for path in paths_sorted])\n",
    "integrals = block[0:endlayer]\n",
    "\n",
    "del paths_sorted\n",
    "objectinfo = pd.read_csv('Parameters.csv', names=[\"Object\", \"P\", \"S\", \"H\", \"Porosity\", \"Label\"])\n",
    "\n",
    "layersPerObject = endlayer // objectsplit\n",
    "testEnd = endlayer if separate_test else endlayer - layersPerObject * (objectsplit // 3)\n",
    "# testEnd = endlayer\n",
    "\n",
    "objectinfo.insert(1, \"VED\", objectinfo.P * 1000/(objectinfo.S * objectinfo.H * powderthickness))\n",
    "objectCoordinates = [[x, x+objectwidth, y, y+objectheight] for y in reversed(range(\n",
    "    ystart, yend, objectheight + yspacing)) for x in range(xstart, xend, xspacing + objectwidth)]\n",
    "coorddf = pd.DataFrame(objectCoordinates, columns=['xstart', 'xend', 'ystart', 'yend'])\n",
    "objectinfo = coorddf.join(objectinfo)\n",
    "objectinfo.drop(objectinfo[objectinfo.Label == 'KH'].index, inplace=True)\n",
    "objectinfo.replace('GOOD', 0, inplace=True)\n",
    "objectinfo.replace('LOF', 1, inplace=True)\n",
    "\n",
    "zs = [objectinfo.copy().assign(zstart=z, zend=z+layersPerObject) for z in range(0, testEnd-layersPerObject+1, layersPerObject//(upsamplingratio * positive_multiplier))]\n",
    "testzs = [objectinfo.copy().assign(zstart=testEnd, zend=endlayer)]\n",
    "trainobjectinfo = pd.concat(zs, ignore_index=True)\n",
    "# This line removes all the lines from the dataframe that aren't created because of the positive_multiplier\n",
    "trainobjectinfo = trainobjectinfo[(trainobjectinfo['Label'] == 1) | (trainobjectinfo['zstart'] % (positive_multiplier) == 0)]\n",
    "testobjectinfo = pd.concat(testzs, ignore_index=True)\n",
    "\n",
    "trainobjectinfo.reset_index(drop=True, inplace=True)\n",
    "testobjectinfo.reset_index(drop=True, inplace=True)\n",
    "\n",
    "del zs\n",
    "del coorddf\n",
    "del objectCoordinates\n",
    "del objectinfo\n",
    "\n",
    "trainobjects = np.full((len(trainobjectinfo), layersPerObject, objectheight, objectwidth), np.nan)\n",
    "testobjects = np.full((len(testobjectinfo), endlayer-testEnd, objectheight, objectwidth), np.nan)\n",
    "\n",
    "for index, object in trainobjectinfo.iterrows():\n",
    "    trainobjects[index] = integrals[object.zstart:object.zend, object.ystart:object.yend, object.xstart:object.xend]\n",
    "for index, object in testobjectinfo.iterrows():\n",
    "    testobjects[index] = integrals[object.zstart:object.zend, object.ystart:object.yend, object.xstart:object.xend]\n",
    "\n",
    "aggregate = np.sum(trainobjects, axis=(0,1))\n",
    "\n",
    "emptyRatio = 47\n",
    "limit = np.percentile(aggregate, emptyRatio)\n",
    "trainmask = aggregate >= limit\n",
    "trainmask = np.repeat([trainmask], layersPerObject, 0)\n",
    "\n",
    "testmask = trainmask\n",
    "\n",
    "del aggregate\n",
    "del limit\n",
    "del integrals\n",
    "del block\n",
    "del paths\n",
    "\n",
    "assert(np.average(np.isfinite(trainobjects)) == 1)\n",
    "# assert(np.average(np.isfinite(testobjects)) == 1)\n",
    "# xs = np.copy(aggregate)\n",
    "# xs[~backgroundmask] = np.nan\n",
    "# plt.imshow(xs)\n",
    "# plt.figure()"
   ]
  },
  {
   "cell_type": "code",
   "execution_count": 19,
   "metadata": {},
   "outputs": [],
   "source": [
    "from sklearn import neighbors, metrics\n",
    "from sklearn.model_selection import cross_val_score, LeaveOneOut\n",
    "from sklearn import preprocessing\n",
    "from datetime import datetime\n",
    "from sklearn.preprocessing import RobustScaler, StandardScaler\n",
    "from sklearn.pipeline import make_pipeline, Pipeline\n",
    "\n",
    "def preprocess(objects, type, sharpening='none'):\n",
    "    rtn = []\n",
    "    # print(rtn.shape)\n",
    "    for index, object in enumerate(objects):\n",
    "        sharpened = object\n",
    "        if(sharpening != 'none'):\n",
    "            sharpeningKernel = np.array([   [-1, -1,  -1],\n",
    "                                        [-1,  9,  -1],\n",
    "                                        [ -1, -1,  -1]\n",
    "        ]) if sharpening == 'diagonal' else np.array([  [0, -1,  0],\n",
    "                                                        [-1, 5, -1],\n",
    "                                                        [0, -1,  0]])\n",
    "            sharpened = np.array([cv2.filter2D(src=image, ddepth=-1, kernel=sharpeningKernel) for image in object])\n",
    "        # Sharpening is done\n",
    "        if type == 'scatter' or type == 'spatstat':\n",
    "            xs = np.array(sharpened, copy=True, dtype=np.float32)\n",
    "            rtn.append(xs)\n",
    "        elif type == 'moran':\n",
    "            xs = np.array(sharpened, copy=True, dtype=np.float32)\n",
    "            avg = np.nanmean(xs)\n",
    "            stddev = np.nanstd(xs)\n",
    "            xs = (xs - avg) / avg\n",
    "            rtn.append(xs)\n",
    "    return rtn\n",
    "\n",
    "\n",
    "def calculateoutliers(objects, type, neighbourhoodSetting, windowSize):\n",
    "    # c, z, y, x = objects.shape\n",
    "\n",
    "    outlierValues = []\n",
    "    index = 0\n",
    "    # return objects\n",
    "    for object in objects:\n",
    "        z, y, x = object.shape\n",
    "        # Step 1: calculate neighbourhood\n",
    "        neighbourkernel = np.ones((neighbourhoodSetting, neighbourhoodSetting))\n",
    "        flatNeighbourhood = np.array([cv2.filter2D(src=layer, ddepth=-1, kernel=neighbourkernel) for layer in object])\n",
    "        neighbourhoodValues = np.array([\n",
    "            np.sum(flatNeighbourhood[layerIndex-windowSize:layerIndex], axis=0)/windowSize\n",
    "            for layerIndex in range(windowSize, z+1)\n",
    "        ])\n",
    "        # Step 2: calculate outlier\n",
    "        offset = windowSize // 2\n",
    "        endoffset = windowSize - offset - 1\n",
    "\n",
    "        ys = neighbourhoodValues[0:z-windowSize+1]\n",
    "        xs = object[offset:z-endoffset]\n",
    "        filter = np.logical_and(np.isfinite(xs), np.isfinite(ys))\n",
    "\n",
    "        numberOfFilterValues = len(np.unique(filter))\n",
    "        # print(\"filterlength is: \", numberOfFilterValues)\n",
    "        # print(\"index is:\", index)\n",
    "        assert numberOfFilterValues == 2, f\"Expected filter to have two values, got: {numberOfFilterValues}\"\n",
    "        if type == 'spatstat':\n",
    "            outliers = xs - ys\n",
    "            avg = np.mean(outliers[filter])\n",
    "            std = np.std(outliers[filter])\n",
    "            outliers = (outliers - avg) / std\n",
    "            outlierValues.append(outliers)\n",
    "        else:\n",
    "            with warnings.catch_warnings():\n",
    "                line = np.polyfit(xs[filter].flatten(), ys[filter].flatten(), 1)\n",
    "                p = np.poly1d(line)\n",
    "                outlierValues.append(p(xs) - ys)\n",
    "            # plt.scatter(xs[filter].flatten(), ys[filter].flatten())\n",
    "            # plt.axline((-0.1, p(-0.1)), (0, p(0)), linewidth=2, color='b')\n",
    "            # plt.figure()\n",
    "            assert(xs.shape == p(ys).shape)\n",
    "        assert(len(np.unique(outlierValues[index])) > 1)\n",
    "        assert(len(np.unique(np.isfinite(outlierValues[index]))) == 2)\n",
    "        index+=1\n",
    "    # print(\"okidk \", np.average(np.isfinite(outlierValues)))\n",
    "    # assert(np.average(np.isfinite(outlierValues)) > 0.4)\n",
    "    return outlierValues\n",
    "\n",
    "def encode(outlierobjects, type, buckets, histnormalise, minval=0, maxval=0, transformer=None):\n",
    "    numberOfObjects = len(outlierobjects)\n",
    "    X = np.full((numberOfObjects, buckets), np.nan)\n",
    "    raw = np.concatenate([oo.flatten() for oo in outlierobjects])\n",
    "    filter = np.isfinite(raw)\n",
    "    minval = np.min(raw[filter]) if minval == 0 else minval\n",
    "    maxval = np.max(raw[filter]) if maxval == 0 else maxval\n",
    "    for index in range(0, numberOfObjects):\n",
    "        xs = outlierobjects[index]\n",
    "        filter = np.isfinite(xs)\n",
    "        hist, edges = np.histogram(xs[filter], bins=buckets, range=(minval, maxval), density=True)\n",
    "        X[index] = np.array(hist)\n",
    "    \n",
    "    return X, minval, maxval, edges, transformer\n",
    "\n",
    "def classify(Xtrain, Ytrain, Xtest, Ytest, n_neighbors, histnormalise, edges):\n",
    "    plt.hist(edges[0:-1], weights=Xtrain[2], bins=edges)\n",
    "    plt.yscale('log')\n",
    "    plt.figure()\n",
    "    scaler = StandardScaler()\n",
    "    Xtrain = scaler.fit_transform(Xtrain)\n",
    "    plt.hist(edges[0:-1], weights=Xtrain[2], bins=edges)\n",
    "    plt.yscale('log')\n",
    "    plt.figure()\n",
    "\n",
    "    clf = neighbors.KNeighborsClassifier(n_neighbors, weights=\"uniform\")    \n",
    "    if (histnormalise == True):\n",
    "        clf = Pipeline([('scaler', RobustScaler()), ('classifier', neighbors.KNeighborsClassifier(n_neighbors))])\n",
    "    cvs = cross_val_score(clf, Xtrain, Ytrain, cv=5, scoring='roc_auc', n_jobs=-1)\n",
    "    clf.fit(Xtrain, Ytrain)\n",
    "    yfit = clf.predict(Xtest)\n",
    "    graph = (clf['classifier'] if histnormalise == True else clf).kneighbors(Xtest, return_distance=False)\n",
    "    # print(graph)\n",
    "    # print(yfit)\n",
    "    return cvs.mean(), metrics.roc_auc_score(Ytest, yfit), metrics.precision_score(Ytest, yfit, zero_division=0), metrics.recall_score(Ytest, yfit, zero_division=0)"
   ]
  },
  {
   "cell_type": "code",
   "execution_count": 16,
   "metadata": {},
   "outputs": [],
   "source": [
    "# parameter settings\n",
    "types = ['scatter', 'spatstat', 'moran', ]\n",
    "sharpening = ['none', 'direct', 'diagonal']\n",
    "windowsizes = [1, 3, 5, 7]\n",
    "neighbourhoodSetting = ['grid', 'euclidean']\n",
    "bins = [30, 60, 90, 120, 150]\n",
    "histnormalise = [True, False]\n",
    "k = [3,4,5,10,15,20]"
   ]
  },
  {
   "cell_type": "code",
   "execution_count": 17,
   "metadata": {},
   "outputs": [],
   "source": [
    "# Narrow settings for iterating\n",
    "types = ['moran', 'spatstat', 'moran', ]\n",
    "windowsizes = [1, 3, 5]\n",
    "neighbourhoodsize = [3, 5, 7]\n",
    "bins = [30]\n",
    "histnormalise = [True]\n",
    "k = [5,10,15]"
   ]
  },
  {
   "cell_type": "code",
   "execution_count": 20,
   "metadata": {},
   "outputs": [
    {
     "name": "stdout",
     "output_type": "stream",
     "text": [
      "09:39:58 Processing type:  moran\n"
     ]
    },
    {
     "name": "stderr",
     "output_type": "stream",
     "text": [
      "/var/folders/d9/k1mwdb1x1sb5ly3k528g3qcr0000gn/T/ipykernel_38641/3201722458.py:13: FutureWarning: elementwise comparison failed; returning scalar instead, but in the future will perform elementwise comparison\n",
      "  if(sharpening != 'none'):\n",
      "/var/folders/d9/k1mwdb1x1sb5ly3k528g3qcr0000gn/T/ipykernel_38641/3201722458.py:17: FutureWarning: elementwise comparison failed; returning scalar instead, but in the future will perform elementwise comparison\n",
      "  ]) if sharpening == 'diagonal' else np.array([  [0, -1,  0],\n"
     ]
    },
    {
     "name": "stdout",
     "output_type": "stream",
     "text": [
      "09:39:58 Processing windowSize:  1  neighbourhood:  3\n"
     ]
    },
    {
     "name": "stderr",
     "output_type": "stream",
     "text": [
      "/var/folders/d9/k1mwdb1x1sb5ly3k528g3qcr0000gn/T/ipykernel_38641/3201722458.py:27: RuntimeWarning: Mean of empty slice\n",
      "  avg = np.nanmean(xs)\n",
      "/Users/erik/Git/thesis/thesis-env/lib/python3.9/site-packages/numpy/lib/nanfunctions.py:1879: RuntimeWarning: Degrees of freedom <= 0 for slice.\n",
      "  var = nanvar(a, axis=axis, dtype=dtype, out=out, ddof=ddof,\n"
     ]
    },
    {
     "ename": "AssertionError",
     "evalue": "Expected filter to have two values, got: 1",
     "output_type": "error",
     "traceback": [
      "\u001b[0;31m---------------------------------------------------------------------------\u001b[0m",
      "\u001b[0;31mAssertionError\u001b[0m                            Traceback (most recent call last)",
      "\u001b[1;32m/Users/erik/Git/thesis/final-notebook-v3 visuals.ipynb Cell 7\u001b[0m in \u001b[0;36m<cell line: 49>\u001b[0;34m()\u001b[0m\n\u001b[1;32m     <a href='vscode-notebook-cell:/Users/erik/Git/thesis/final-notebook-v3%20visuals.ipynb#W6sZmlsZQ%3D%3D?line=46'>47</a>\u001b[0m                         \u001b[39mreturn\u001b[39;00m\n\u001b[1;32m     <a href='vscode-notebook-cell:/Users/erik/Git/thesis/final-notebook-v3%20visuals.ipynb#W6sZmlsZQ%3D%3D?line=47'>48</a>\u001b[0m         \u001b[39mreturn\u001b[39;00m\n\u001b[0;32m---> <a href='vscode-notebook-cell:/Users/erik/Git/thesis/final-notebook-v3%20visuals.ipynb#W6sZmlsZQ%3D%3D?line=48'>49</a>\u001b[0m doStuff()\n",
      "\u001b[1;32m/Users/erik/Git/thesis/final-notebook-v3 visuals.ipynb Cell 7\u001b[0m in \u001b[0;36mdoStuff\u001b[0;34m()\u001b[0m\n\u001b[1;32m     <a href='vscode-notebook-cell:/Users/erik/Git/thesis/final-notebook-v3%20visuals.ipynb#W6sZmlsZQ%3D%3D?line=25'>26</a>\u001b[0m \u001b[39mprint\u001b[39m(datetime\u001b[39m.\u001b[39mnow()\u001b[39m.\u001b[39mstrftime(\u001b[39m\"\u001b[39m\u001b[39m%\u001b[39m\u001b[39mH:\u001b[39m\u001b[39m%\u001b[39m\u001b[39mM:\u001b[39m\u001b[39m%\u001b[39m\u001b[39mS\u001b[39m\u001b[39m\"\u001b[39m), \u001b[39m\"\u001b[39m\u001b[39mProcessing windowSize: \u001b[39m\u001b[39m\"\u001b[39m, windowsize, \u001b[39m\"\u001b[39m\u001b[39m neighbourhood: \u001b[39m\u001b[39m\"\u001b[39m, nSetting)\n\u001b[1;32m     <a href='vscode-notebook-cell:/Users/erik/Git/thesis/final-notebook-v3%20visuals.ipynb#W6sZmlsZQ%3D%3D?line=26'>27</a>\u001b[0m \u001b[39m# trainoutliers = np.apply_along_axis(calculateoutliers, 1, trainpreprocessed, type, nSetting, windowsize)\u001b[39;00m\n\u001b[0;32m---> <a href='vscode-notebook-cell:/Users/erik/Git/thesis/final-notebook-v3%20visuals.ipynb#W6sZmlsZQ%3D%3D?line=27'>28</a>\u001b[0m trainoutliers \u001b[39m=\u001b[39m calculateoutliers(trainpreprocessed, \u001b[39mtype\u001b[39;49m, nSetting, windowsize)\n\u001b[1;32m     <a href='vscode-notebook-cell:/Users/erik/Git/thesis/final-notebook-v3%20visuals.ipynb#W6sZmlsZQ%3D%3D?line=28'>29</a>\u001b[0m testoutliers \u001b[39m=\u001b[39m calculateoutliers(testpreprocessed, \u001b[39mtype\u001b[39m, nSetting, windowsize)\n\u001b[1;32m     <a href='vscode-notebook-cell:/Users/erik/Git/thesis/final-notebook-v3%20visuals.ipynb#W6sZmlsZQ%3D%3D?line=30'>31</a>\u001b[0m plt\u001b[39m.\u001b[39mimshow(trainoutliers[\u001b[39m2\u001b[39m][\u001b[39m93\u001b[39m])\n",
      "\u001b[1;32m/Users/erik/Git/thesis/final-notebook-v3 visuals.ipynb Cell 7\u001b[0m in \u001b[0;36mcalculateoutliers\u001b[0;34m(objects, type, neighbourhoodSetting, windowSize)\u001b[0m\n\u001b[1;32m     <a href='vscode-notebook-cell:/Users/erik/Git/thesis/final-notebook-v3%20visuals.ipynb#W6sZmlsZQ%3D%3D?line=68'>69</a>\u001b[0m numberOfFilterValues \u001b[39m=\u001b[39m \u001b[39mlen\u001b[39m(np\u001b[39m.\u001b[39munique(\u001b[39mfilter\u001b[39m))\n\u001b[1;32m     <a href='vscode-notebook-cell:/Users/erik/Git/thesis/final-notebook-v3%20visuals.ipynb#W6sZmlsZQ%3D%3D?line=69'>70</a>\u001b[0m \u001b[39m# print(\"filterlength is: \", numberOfFilterValues)\u001b[39;00m\n\u001b[1;32m     <a href='vscode-notebook-cell:/Users/erik/Git/thesis/final-notebook-v3%20visuals.ipynb#W6sZmlsZQ%3D%3D?line=70'>71</a>\u001b[0m \u001b[39m# print(\"index is:\", index)\u001b[39;00m\n\u001b[0;32m---> <a href='vscode-notebook-cell:/Users/erik/Git/thesis/final-notebook-v3%20visuals.ipynb#W6sZmlsZQ%3D%3D?line=71'>72</a>\u001b[0m \u001b[39massert\u001b[39;00m numberOfFilterValues \u001b[39m==\u001b[39m \u001b[39m2\u001b[39m, \u001b[39mf\u001b[39m\u001b[39m\"\u001b[39m\u001b[39mExpected filter to have two values, got: \u001b[39m\u001b[39m{\u001b[39;00mnumberOfFilterValues\u001b[39m}\u001b[39;00m\u001b[39m\"\u001b[39m\n\u001b[1;32m     <a href='vscode-notebook-cell:/Users/erik/Git/thesis/final-notebook-v3%20visuals.ipynb#W6sZmlsZQ%3D%3D?line=72'>73</a>\u001b[0m \u001b[39mif\u001b[39;00m \u001b[39mtype\u001b[39m \u001b[39m==\u001b[39m \u001b[39m'\u001b[39m\u001b[39mspatstat\u001b[39m\u001b[39m'\u001b[39m:\n\u001b[1;32m     <a href='vscode-notebook-cell:/Users/erik/Git/thesis/final-notebook-v3%20visuals.ipynb#W6sZmlsZQ%3D%3D?line=73'>74</a>\u001b[0m     outliers \u001b[39m=\u001b[39m xs \u001b[39m-\u001b[39m ys\n",
      "\u001b[0;31mAssertionError\u001b[0m: Expected filter to have two values, got: 1"
     ]
    },
    {
     "data": {
      "image/png": "[encoded data removed]",
      "text/plain": [
       "<Figure size 432x288 with 1 Axes>"
      ]
     },
     "metadata": {
      "needs_background": "light"
     },
     "output_type": "display_data"
    },
    {
     "data": {
      "text/plain": [
       "<Figure size 432x288 with 0 Axes>"
      ]
     },
     "metadata": {},
     "output_type": "display_data"
    }
   ],
   "source": [
    "# Now to tie it all together...\n",
    "def doStuff ():\n",
    "    columns = ['type', 'sharpening', 'windowSize', 'neighbourhood', 'buckets', 'histnormalise', 'k-nearest', 'cv-auc', 'test-auc', 'test-precision', 'test-recall']\n",
    "    results = pd.DataFrame(columns=columns)\n",
    "    Ytrain = np.array(trainobjectinfo.loc[:,\"Label\"])\n",
    "    Ytest = np.array(testobjectinfo.loc[:,\"Label\"])\n",
    "    for type in types:\n",
    "        print(datetime.now().strftime(\"%H:%M:%S\"), \"Processing type: \", type)\n",
    "        # trainpreprocessed = np.apply_along_axis(preprocess, 1, trainobjects, type, sharpSetting)\n",
    "        trainpreprocessed =preprocess(trainobjects, type, trainmask)\n",
    "        testpreprocessed =preprocess(testobjects, type, testmask)\n",
    "        plt.imshow(trainobjects[2][93])\n",
    "        plt.title(\"train 2,93\")\n",
    "        plt.figure()\n",
    "        # plt.imshow(testobjects[0][0])\n",
    "        # plt.title(\"test 0,0\")\n",
    "        # plt.figure()\n",
    "        # plt.imshow(trainpreprocessed[0][0])\n",
    "        # plt.title(\"trainpreprocessed 0,0\")\n",
    "        # plt.figure()\n",
    "        # plt.imshow(testpreprocessed[0][0])\n",
    "        # plt.title(\"testpreprocessed 0,0\")\n",
    "        # plt.figure()\n",
    "        for windowsize in windowsizes:\n",
    "            for nSetting in neighbourhoodsize:\n",
    "                print(datetime.now().strftime(\"%H:%M:%S\"), \"Processing windowSize: \", windowsize, \" neighbourhood: \", nSetting)\n",
    "                # trainoutliers = np.apply_along_axis(calculateoutliers, 1, trainpreprocessed, type, nSetting, windowsize)\n",
    "                trainoutliers = calculateoutliers(trainpreprocessed, type, nSetting, windowsize)\n",
    "                testoutliers = calculateoutliers(testpreprocessed, type, nSetting, windowsize)\n",
    "\n",
    "                plt.imshow(trainoutliers[2][93])\n",
    "                plt.title(\"trainoutliers 2,93, porosity \" + str(trainobjectinfo.loc[2,\"Porosity\"]))\n",
    "                plt.figure()\n",
    "                # plt.imshow(testoutliers[0][0])\n",
    "                # plt.title(\"testoutliers 0,0\")\n",
    "                # plt.figure()\n",
    "                for histnorm in histnormalise:\n",
    "                    for bincount in bins:\n",
    "                        print(datetime.now().strftime(\"%H:%M:%S\"), \"Processing histnorm: \", histnorm, \" bins: \", bincount)\n",
    "                        Xtrain, minval, maxval, edges, transformer = encode(trainoutliers, type, bincount, histnorm)\n",
    "                        Xtest, _, _, _, _ = encode(testoutliers, type, bincount, histnorm, minval=minval, maxval=maxval, transformer=transformer)\n",
    "                        # Add encode for test as well\n",
    "                        for n_neighbors in k:\n",
    "                            cvscore, score, precision, recall = classify(Xtrain, Ytrain, Xtest, Ytest, n_neighbors, histnorm, edges)\n",
    "                            nextRow =  pd.DataFrame([[type, 'none', windowsize, nSetting, bincount, histnorm, n_neighbors, cvscore, score, precision, recall]], columns=columns)\n",
    "                            results = pd.concat([results, nextRow])\n",
    "                        return\n",
    "        return\n",
    "doStuff()"
   ]
  },
  {
   "cell_type": "code",
   "execution_count": null,
   "metadata": {},
   "outputs": [],
   "source": []
  },
  {
   "cell_type": "code",
   "execution_count": 21,
   "metadata": {},
   "outputs": [
    {
     "name": "stdout",
     "output_type": "stream",
     "text": [
      "trainobjects (numpy): -2166023118416099643\n",
      "traininfo: 412508232648793926\n",
      "testobjects (numpy): 4546364536014759216\n",
      "testinfo: -8326825392638724975\n"
     ]
    }
   ],
   "source": [
    "print(\"trainobjects (numpy): \" + str(hash(np.array2string(trainobjects))))\n",
    "print(\"traininfo: \" + str(hash(trainobjectinfo.to_string())))\n",
    "print(\"testobjects (numpy): \" + str(hash(np.array2string(testobjects))))\n",
    "print(\"testinfo: \" + str(hash(testobjectinfo.to_string())))"
   ]
  },
  {
   "cell_type": "code",
   "execution_count": 24,
   "metadata": {},
   "outputs": [],
   "source": [
    "trainobjectinfo.to_csv(\"v3train.csv\", index=False, header=True)\n",
    "testobjectinfo.to_csv(\"v3test.csv\", index=False, header=True)"
   ]
  },
  {
   "cell_type": "code",
   "execution_count": 6,
   "metadata": {},
   "outputs": [],
   "source": [
    "np.savetxt(\"v3train.csv\", trainobjects.flatten(), delimiter=\",\", fmt='%1.3e')\n",
    "np.savetxt(\"v3test.csv\", testobjects.flatten(), delimiter=\",\", fmt='%1.3e')"
   ]
  },
  {
   "cell_type": "code",
   "execution_count": 7,
   "metadata": {},
   "outputs": [
    {
     "data": {
      "text/plain": [
       "<matplotlib.image.AxesImage at 0x1060fc8b0>"
      ]
     },
     "execution_count": 7,
     "metadata": {},
     "output_type": "execute_result"
    },
    {
     "data": {
      "image/png": "[encoded data removed]",
      "text/plain": [
       "<Figure size 432x288 with 1 Axes>"
      ]
     },
     "metadata": {
      "needs_background": "light"
     },
     "output_type": "display_data"
    }
   ],
   "source": [
    "plt.imshow(trainobjects[0][0])"
   ]
  }
 ],
 "metadata": {
  "kernelspec": {
   "display_name": "Python 3.9.13 ('thesis-env': venv)",
   "language": "python",
   "name": "python3"
  },
  "language_info": {
   "codemirror_mode": {
    "name": "ipython",
    "version": 3
   },
   "file_extension": ".py",
   "mimetype": "text/x-python",
   "name": "python",
   "nbconvert_exporter": "python",
   "pygments_lexer": "ipython3",
   "version": "3.9.14"
  },
  "orig_nbformat": 4,
  "vscode": {
   "interpreter": {
    "hash": "1b582782fd74adb665333939d2eb8c9995c52902e0db289bedb880e3a83e2d4f"
   }
  }
 },
 "nbformat": 4,
 "nbformat_minor": 2
}
