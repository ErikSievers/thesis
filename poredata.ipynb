{
 "cells": [
  {
   "cell_type": "code",
   "execution_count": 31,
   "metadata": {},
   "outputs": [
    {
     "name": "stderr",
     "output_type": "stream",
     "text": [
      "/var/folders/q8/tcfvx04d1y11jv7mj6t996fr0000gn/T/ipykernel_44445/4144059007.py:17: VisibleDeprecationWarning: Creating an ndarray from ragged nested sequences (which is a list-or-tuple of lists-or-tuples-or ndarrays with different lengths or shapes) is deprecated. If you meant to do this, you must specify 'dtype=object' when creating the ndarray.\n",
      "  arr = np.array([np.array(i, dtype=bool) for i in im])\n"
     ]
    }
   ],
   "source": [
    "import pandas as pd\n",
    "import numpy as np\n",
    "import matplotlib.pyplot as plt\n",
    "import pathlib\n",
    "import imageio\n",
    "import cv2\n",
    "\n",
    "paths = pathlib.Path('./Optical Micrographs').glob('*H.jpg')\n",
    "paths_sorted = [x for x in paths]\n",
    "paths_sorted.sort()\n",
    "\n",
    "def toBW(img):\n",
    "    (thresh, blackAndWhiteImage) = cv2.threshold(img, 127, 255, cv2.THRESH_BINARY)\n",
    "    return blackAndWhiteImage\n",
    "\n",
    "originals = [cv2.imread(str(path)) for path in paths_sorted]\n",
    "bws = [toBW(original) for original in originals]\n",
    "#arr = np.array([np.array(i, dtype=bool) for i in im])\n",
    "\n",
    "#Question for Zhouer: any suggestion on how to measure roundness?"
   ]
  },
  {
   "cell_type": "code",
   "execution_count": null,
   "metadata": {},
   "outputs": [],
   "source": [
    "def getCountours(img):\n",
    "    contours, hierarchy = cv2.findContours(~img, cv2.RETR_TREE, cv2.CHAIN_APPROX_SIMPLE)\n",
    "    return contours\n",
    "\n",
    "def convertToDataArray(contour, index):\n",
    "    area = cv2.contourArea(contour)\n",
    "    perimiter = cv2.arcLength(contour, True)\n",
    "    (cx, cy), (w, h), c = cv2.minAreaRect(contour)\n",
    "    print([index, area, perimiter, w, h, cx, cy])\n",
    "\n",
    "def paintContours(img, cnts):\n",
    "    for cnt in contours:\n",
    "        rect = cv2.minAreaRect(cnt)\n",
    "        box = cv2.boxPoints(rect)\n",
    "        box = np.int0(box)\n",
    "        cv2.drawContours(img,[box],0,(0,0,255),5)\n",
    "\n",
    "contours = [getCountours(i) for i in bws]\n",
    "\n",
    "paintContours(originals[0], contours[0])\n",
    "cv2.imwrite(\"Fixed.jpg\", originals[0])\n",
    "\n",
    "\n",
    "#We want source image, area, length, height, location\n",
    "#data = [[convertToDataArray(cnt, index) for cnt in item] for index, item in enumerate(contours)]"
   ]
  },
  {
   "cell_type": "code",
   "execution_count": 61,
   "metadata": {},
   "outputs": [
    {
     "data": {
      "text/plain": [
       "True"
      ]
     },
     "execution_count": 61,
     "metadata": {},
     "output_type": "execute_result"
    }
   ],
   "source": [
    "for cnt in contours[0]:\n",
    "    rect = cv2.minAreaRect(cnt)\n",
    "    box = cv2.boxPoints(rect)\n",
    "    box = np.int0(box)\n",
    "    cv2.drawContours(im[0],[box],0,(0,255,255),2)\n"
   ]
  }
 ],
 "metadata": {
  "interpreter": {
   "hash": "b0fa6594d8f4cbf19f97940f81e996739fb7646882a419484c72d19e05852a7e"
  },
  "kernelspec": {
   "display_name": "Python 3.9.9 64-bit",
   "language": "python",
   "name": "python3"
  },
  "language_info": {
   "codemirror_mode": {
    "name": "ipython",
    "version": 3
   },
   "file_extension": ".py",
   "mimetype": "text/x-python",
   "name": "python",
   "nbconvert_exporter": "python",
   "pygments_lexer": "ipython3",
   "version": "3.9.7"
  },
  "orig_nbformat": 4
 },
 "nbformat": 4,
 "nbformat_minor": 2
}
