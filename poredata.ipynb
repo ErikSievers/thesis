{
 "cells": [
  {
   "cell_type": "code",
   "execution_count": 22,
   "metadata": {},
   "outputs": [],
   "source": [
    "import pandas as pd\n",
    "import numpy as np\n",
    "import matplotlib.pyplot as plt\n",
    "import pathlib\n",
    "import cv2\n",
    "\n",
    "\n",
    "paths = pathlib.Path('./Optical Micrographs').glob('01-H.jpg')\n",
    "#paths = pathlib.Path('./Optical Micrographs').glob('*H.jpg')\n",
    "paths_sorted = [x for x in paths]\n",
    "paths_sorted.sort()\n",
    "\n",
    "def toBW(img):\n",
    "    (thresh, blackAndWhiteImage) = cv2.threshold(cv2.cvtColor(img, cv2.COLOR_BGR2GRAY), 127, 255, cv2.THRESH_BINARY)\n",
    "    return blackAndWhiteImage\n",
    "\n",
    "originals = [cv2.imread(str(path)) for path in paths_sorted]\n",
    "bws = [toBW(original) for original in originals]\n",
    "#bws = [toBW(cv2.imread(str(path))) for path in paths_sorted]\n",
    "\n",
    "#Question for Zhouer: any suggestion on how to measure roundness?"
   ]
  },
  {
   "cell_type": "code",
   "execution_count": 19,
   "metadata": {},
   "outputs": [],
   "source": [
    "def getCountours(img):\n",
    "    contours, hierarchy = cv2.findContours(~img, cv2.RETR_TREE, cv2.CHAIN_APPROX_SIMPLE)\n",
    "    return contours\n",
    "\n",
    "def convertToDataArray(contour, index):\n",
    "    area = cv2.contourArea(contour)\n",
    "    perimiter = cv2.arcLength(contour, True)\n",
    "    (cx, cy), (w, h), c = cv2.minAreaRect(contour)\n",
    "    return [index+1, area, perimiter, w, h, cx, cy]\n",
    "\n",
    "def paintContours(img, cnts):\n",
    "    for cnt in cnts:\n",
    "        rect = cv2.minAreaRect(cnt)\n",
    "        box = cv2.boxPoints(rect)\n",
    "        box = np.int0(box)\n",
    "        cv2.drawContours(img,[box],0,(0,0,255),2)\n",
    "def flatten(t):\n",
    "    return [item for sublist in t for item in sublist]\n",
    "contours = [getCountours(i) for i in bws]\n",
    "\n",
    "#paintContours(originals[0], contours[0])\n",
    "#cv2.imwrite(\"bwconverted.pdf\", bws[0])\n",
    "#cv2.imwrite(\"contours.pdf\", originals[0])\n",
    "\n",
    "#We want source image, area, length, height, location\n",
    "# image [28]\n",
    "#   pores [800]\n",
    "#       attributes [7]\n",
    "data = flatten([[convertToDataArray(cnt, index) for cnt in item] for index, item in enumerate(contours)])\n",
    "data = filter(lambda x: x[1] < 1000000 and x[1] > 0, data)"
   ]
  },
  {
   "cell_type": "code",
   "execution_count": 17,
   "metadata": {},
   "outputs": [],
   "source": [
    "arr = np.array([np.array(d) for d in data])\n",
    "np.savetxt('pores-filtered.csv', arr, delimiter=',', header=\"file, area, circumference, width, height, center X, center Y\")"
   ]
  },
  {
   "cell_type": "code",
   "execution_count": 23,
   "metadata": {},
   "outputs": [
    {
     "data": {
      "text/plain": [
       "True"
      ]
     },
     "execution_count": 23,
     "metadata": {},
     "output_type": "execute_result"
    }
   ],
   "source": [
    "cv2.drawContours(originals[0],contours[0],-1,(0,0,255),2)\n",
    "cv2.imwrite(\"contours.pdf\", originals[0])"
   ]
  },
  {
   "cell_type": "code",
   "execution_count": 33,
   "metadata": {},
   "outputs": [
    {
     "name": "stdout",
     "output_type": "stream",
     "text": [
      "[[[  1  -1  -1  -1]\n",
      "  [  2   0  -1  -1]\n",
      "  [  3   1  -1  -1]\n",
      "  ...\n",
      "  [873 871  -1 265]\n",
      "  [ -1 872  -1 265]\n",
      "  [ -1 265  -1 109]]]\n",
      "109540869.0\n"
     ]
    }
   ],
   "source": [
    "# Structure of return data is\n",
    "#[[Next, Previous, First_Child, Parent]]\n",
    "# Next step: print a tree\n",
    "# Idea: identify largest contour (whole image?) using conservative contrast.\n",
    "# Identify largest contour inside (build object).\n",
    "# Eliminate everything outside of the contour\n",
    "# Identify pores using less conservative contrast\n",
    "# Draw pores on original image to check validity\n",
    "def getHierarchy(img):\n",
    "    contours, hierarchy = cv2.findContours(~img, cv2.RETR_TREE, cv2.CHAIN_APPROX_SIMPLE)\n",
    "    return hierarchy\n",
    "\n",
    "print(getHierarchy(bws[0]))\n",
    "print(cv2.contourArea(contours[0][265]))"
   ]
  },
  {
   "cell_type": "code",
   "execution_count": null,
   "metadata": {},
   "outputs": [],
   "source": []
  }
 ],
 "metadata": {
  "interpreter": {
   "hash": "b0fa6594d8f4cbf19f97940f81e996739fb7646882a419484c72d19e05852a7e"
  },
  "kernelspec": {
   "display_name": "Python 3.9.9 64-bit",
   "language": "python",
   "name": "python3"
  },
  "language_info": {
   "codemirror_mode": {
    "name": "ipython",
    "version": 3
   },
   "file_extension": ".py",
   "mimetype": "text/x-python",
   "name": "python",
   "nbconvert_exporter": "python",
   "pygments_lexer": "ipython3",
   "version": "3.9.7"
  },
  "orig_nbformat": 4
 },
 "nbformat": 4,
 "nbformat_minor": 2
}
